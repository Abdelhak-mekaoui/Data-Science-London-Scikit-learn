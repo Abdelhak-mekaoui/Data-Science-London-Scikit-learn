{
  "nbformat": 4,
  "nbformat_minor": 0,
  "metadata": {
    "colab": {
      "provenance": [],
      "machine_shape": "hm",
      "include_colab_link": true
    },
    "kernelspec": {
      "name": "python3",
      "display_name": "Python 3"
    }
  },
  "cells": [
    {
      "cell_type": "markdown",
      "metadata": {
        "id": "view-in-github",
        "colab_type": "text"
      },
      "source": [
        "<a href=\"https://colab.research.google.com/github/Abdelhak-mekaoui/Data-Science-London-Scikit-learn/blob/main/Data_Science_London_%2B_Scikit_learn.ipynb\" target=\"_parent\"><img src=\"https://colab.research.google.com/assets/colab-badge.svg\" alt=\"Open In Colab\"/></a>"
      ]
    },
    {
      "cell_type": "markdown",
      "metadata": {
        "id": "0MRC0e0KhQ0S"
      },
      "source": [
        "# Data Science London + Scikit-learn\n"
      ]
    },
    {
      "cell_type": "markdown",
      "metadata": {
        "id": "LWd1UlMnhT2s"
      },
      "source": [
        "## Importing the libraries"
      ]
    },
    {
      "cell_type": "code",
      "metadata": {
        "id": "YvGPUQaHhXfL"
      },
      "source": [
        "import numpy as np\n",
        "import matplotlib.pyplot as plt\n",
        "import pandas as pd\n",
        "import seaborn as sns"
      ],
      "execution_count": 45,
      "outputs": []
    },
    {
      "cell_type": "markdown",
      "metadata": {
        "id": "K1VMqkGvhc3-"
      },
      "source": [
        "## Importing the dataset"
      ]
    },
    {
      "cell_type": "code",
      "metadata": {
        "id": "M52QDmyzhh9s"
      },
      "source": [
        "train_data = pd.read_csv('train.csv',header=None)\n",
        "test_data = pd.read_csv('test.csv',header=None)\n",
        "train_label= pd.read_csv('trainLabels.csv',header=None)"
      ],
      "execution_count": 46,
      "outputs": []
    },
    {
      "cell_type": "code",
      "source": [
        "train_data.info()"
      ],
      "metadata": {
        "colab": {
          "base_uri": "https://localhost:8080/"
        },
        "id": "n1E4o39ksPpX",
        "outputId": "0e634ffe-824a-4979-d95f-c3f110710f85"
      },
      "execution_count": 47,
      "outputs": [
        {
          "output_type": "stream",
          "name": "stdout",
          "text": [
            "<class 'pandas.core.frame.DataFrame'>\n",
            "RangeIndex: 1000 entries, 0 to 999\n",
            "Data columns (total 40 columns):\n",
            " #   Column  Non-Null Count  Dtype  \n",
            "---  ------  --------------  -----  \n",
            " 0   0       1000 non-null   float64\n",
            " 1   1       1000 non-null   float64\n",
            " 2   2       1000 non-null   float64\n",
            " 3   3       1000 non-null   float64\n",
            " 4   4       1000 non-null   float64\n",
            " 5   5       1000 non-null   float64\n",
            " 6   6       1000 non-null   float64\n",
            " 7   7       1000 non-null   float64\n",
            " 8   8       1000 non-null   float64\n",
            " 9   9       1000 non-null   float64\n",
            " 10  10      1000 non-null   float64\n",
            " 11  11      1000 non-null   float64\n",
            " 12  12      1000 non-null   float64\n",
            " 13  13      1000 non-null   float64\n",
            " 14  14      1000 non-null   float64\n",
            " 15  15      1000 non-null   float64\n",
            " 16  16      1000 non-null   float64\n",
            " 17  17      1000 non-null   float64\n",
            " 18  18      1000 non-null   float64\n",
            " 19  19      1000 non-null   float64\n",
            " 20  20      1000 non-null   float64\n",
            " 21  21      1000 non-null   float64\n",
            " 22  22      1000 non-null   float64\n",
            " 23  23      1000 non-null   float64\n",
            " 24  24      1000 non-null   float64\n",
            " 25  25      1000 non-null   float64\n",
            " 26  26      1000 non-null   float64\n",
            " 27  27      1000 non-null   float64\n",
            " 28  28      1000 non-null   float64\n",
            " 29  29      1000 non-null   float64\n",
            " 30  30      1000 non-null   float64\n",
            " 31  31      1000 non-null   float64\n",
            " 32  32      1000 non-null   float64\n",
            " 33  33      1000 non-null   float64\n",
            " 34  34      1000 non-null   float64\n",
            " 35  35      1000 non-null   float64\n",
            " 36  36      1000 non-null   float64\n",
            " 37  37      1000 non-null   float64\n",
            " 38  38      1000 non-null   float64\n",
            " 39  39      1000 non-null   float64\n",
            "dtypes: float64(40)\n",
            "memory usage: 312.6 KB\n"
          ]
        }
      ]
    },
    {
      "cell_type": "code",
      "source": [
        "train_data.isnull().sum()"
      ],
      "metadata": {
        "colab": {
          "base_uri": "https://localhost:8080/"
        },
        "id": "uzQxIyfDsVBq",
        "outputId": "9d6ebcea-450b-4f3c-f626-39fed177d196"
      },
      "execution_count": 48,
      "outputs": [
        {
          "output_type": "execute_result",
          "data": {
            "text/plain": [
              "0     0\n",
              "1     0\n",
              "2     0\n",
              "3     0\n",
              "4     0\n",
              "5     0\n",
              "6     0\n",
              "7     0\n",
              "8     0\n",
              "9     0\n",
              "10    0\n",
              "11    0\n",
              "12    0\n",
              "13    0\n",
              "14    0\n",
              "15    0\n",
              "16    0\n",
              "17    0\n",
              "18    0\n",
              "19    0\n",
              "20    0\n",
              "21    0\n",
              "22    0\n",
              "23    0\n",
              "24    0\n",
              "25    0\n",
              "26    0\n",
              "27    0\n",
              "28    0\n",
              "29    0\n",
              "30    0\n",
              "31    0\n",
              "32    0\n",
              "33    0\n",
              "34    0\n",
              "35    0\n",
              "36    0\n",
              "37    0\n",
              "38    0\n",
              "39    0\n",
              "dtype: int64"
            ]
          },
          "metadata": {},
          "execution_count": 48
        }
      ]
    },
    {
      "cell_type": "code",
      "source": [
        "sns.heatmap(train_data.isnull(),yticklabels=False,cbar=False)"
      ],
      "metadata": {
        "colab": {
          "base_uri": "https://localhost:8080/",
          "height": 283
        },
        "id": "WokVXqLgsxGQ",
        "outputId": "ba24c766-6774-4dbe-8866-2ca74c5b39c5"
      },
      "execution_count": 49,
      "outputs": [
        {
          "output_type": "execute_result",
          "data": {
            "text/plain": [
              "<matplotlib.axes._subplots.AxesSubplot at 0x7fb6b52f5fd0>"
            ]
          },
          "metadata": {},
          "execution_count": 49
        },
        {
          "output_type": "display_data",
          "data": {
            "text/plain": [
              "<Figure size 432x288 with 1 Axes>"
            ],
            "image/png": "[encoded data removed]"
          },
          "metadata": {
            "needs_background": "light"
          }
        }
      ]
    },
    {
      "cell_type": "code",
      "source": [
        "X=train_data.iloc[:,:].values\n",
        "y=train_label.values\n",
        "X_test=test_data.iloc[:,:].values"
      ],
      "metadata": {
        "id": "V_BYbE3Qu0Iy"
      },
      "execution_count": 50,
      "outputs": []
    },
    {
      "cell_type": "code",
      "source": [
        "print(X.shape)\n",
        "print(y.shape)\n",
        "print(X_test.shape)"
      ],
      "metadata": {
        "id": "Zkg9aD00vjuc",
        "outputId": "679913c3-11be-4bfc-fac3-e1047e2d372e",
        "colab": {
          "base_uri": "https://localhost:8080/"
        }
      },
      "execution_count": 51,
      "outputs": [
        {
          "output_type": "stream",
          "name": "stdout",
          "text": [
            "(1000, 40)\n",
            "(1000, 1)\n",
            "(9000, 40)\n"
          ]
        }
      ]
    },
    {
      "cell_type": "markdown",
      "source": [
        "# Spliting the dataset into training set and cross validation set "
      ],
      "metadata": {
        "id": "DiWthlf9uQwF"
      }
    },
    {
      "cell_type": "code",
      "source": [
        "from sklearn.model_selection import train_test_split\n",
        "X_train, X_cv, y_train, y_cv = train_test_split(X, y, test_size = 0.2, random_state = 0)"
      ],
      "metadata": {
        "id": "KrmRc0bsuFJa"
      },
      "execution_count": 52,
      "outputs": []
    },
    {
      "cell_type": "markdown",
      "source": [
        "# Training Classification models on X_train and evaluation on X_cv"
      ],
      "metadata": {
        "id": "-TOBmbiLunL5"
      }
    },
    {
      "cell_type": "markdown",
      "source": [
        "## RandomForestClassifier"
      ],
      "metadata": {
        "id": "xMLaGzb_vuau"
      }
    },
    {
      "cell_type": "code",
      "source": [
        "from sklearn.ensemble import RandomForestClassifier\n",
        "from sklearn.metrics import confusion_matrix, accuracy_score\n",
        "\n",
        "max_depth=range(5,20)\n",
        "min_samples_split=range(2,15)\n",
        "J_train = []\n",
        "J_cv = []\n",
        "best = [5,2]\n",
        "for md in max_depth:\n",
        "  for ms in min_samples_split:\n",
        "    print(f\"\\n==========================={md}============={ms}==========================\\n\")\n",
        "    classifier = RandomForestClassifier(n_estimators = 10, criterion = 'entropy',\n",
        "                                        max_depth=md ,\n",
        "                                        min_samples_split=ms ,\n",
        "                                        random_state = 0)\n",
        "    classifier.fit(X_train, y_train)\n",
        "    y_pred_t = classifier.predict(X_train)\n",
        "    y_pred_cv = classifier.predict(X_cv)\n",
        "    cm = confusion_matrix(y_cv, y_pred_cv)\n",
        "    print(cm)\n",
        "    Rt = accuracy_score(y_train, y_pred_t)\n",
        "    Rcv = accuracy_score(y_cv, y_pred_cv)\n",
        "    print(f\"Train score : {Rt} CV score {Rcv}\")\n",
        "    if md!=5 and ms!=2 and (Rcv > max(J_cv)) :\n",
        "      best=[md,ms]\n",
        "    J_train.append(Rt)\n",
        "    J_cv.append(Rcv)"
      ],
      "metadata": {
        "id": "KYPaIcmNvzQt",
        "outputId": "5c8e119e-d4df-49bf-90a5-c033070fac1e",
        "colab": {
          "base_uri": "https://localhost:8080/"
        }
      },
      "execution_count": 53,
      "outputs": [
        {
          "output_type": "stream",
          "name": "stdout",
          "text": [
            "\n",
            "===========================5=============2==========================\n",
            "\n",
            "[[69 20]\n",
            " [19 92]]\n",
            "Train score : 0.915 CV score 0.805\n",
            "\n",
            "===========================5=============3==========================\n",
            "\n",
            "[[69 20]\n",
            " [19 92]]\n",
            "Train score : 0.915 CV score 0.805\n",
            "\n",
            "===========================5=============4==========================\n",
            "\n",
            "[[70 19]\n",
            " [22 89]]\n",
            "Train score : 0.915 CV score 0.795\n",
            "\n",
            "===========================5=============5==========================\n",
            "\n",
            "[[68 21]\n",
            " [19 92]]\n",
            "Train score : 0.92125 CV score 0.8\n",
            "\n",
            "===========================5=============6==========================\n",
            "\n"
          ]
        },
        {
          "output_type": "stream",
          "name": "stderr",
          "text": [
            "<ipython-input-53-1dd8ef2bc507>:16: DataConversionWarning: A column-vector y was passed when a 1d array was expected. Please change the shape of y to (n_samples,), for example using ravel().\n",
            "  classifier.fit(X_train, y_train)\n",
            "<ipython-input-53-1dd8ef2bc507>:16: DataConversionWarning: A column-vector y was passed when a 1d array was expected. Please change the shape of y to (n_samples,), for example using ravel().\n",
            "  classifier.fit(X_train, y_train)\n",
            "<ipython-input-53-1dd8ef2bc507>:16: DataConversionWarning: A column-vector y was passed when a 1d array was expected. Please change the shape of y to (n_samples,), for example using ravel().\n",
            "  classifier.fit(X_train, y_train)\n",
            "<ipython-input-53-1dd8ef2bc507>:16: DataConversionWarning: A column-vector y was passed when a 1d array was expected. Please change the shape of y to (n_samples,), for example using ravel().\n",
            "  classifier.fit(X_train, y_train)\n",
            "<ipython-input-53-1dd8ef2bc507>:16: DataConversionWarning: A column-vector y was passed when a 1d array was expected. Please change the shape of y to (n_samples,), for example using ravel().\n",
            "  classifier.fit(X_train, y_train)\n"
          ]
        },
        {
          "output_type": "stream",
          "name": "stdout",
          "text": [
            "[[65 24]\n",
            " [17 94]]\n",
            "Train score : 0.92125 CV score 0.795\n",
            "\n",
            "===========================5=============7==========================\n",
            "\n",
            "[[66 23]\n",
            " [18 93]]\n",
            "Train score : 0.93125 CV score 0.795\n",
            "\n",
            "===========================5=============8==========================\n",
            "\n",
            "[[66 23]\n",
            " [18 93]]\n",
            "Train score : 0.93125 CV score 0.795\n",
            "\n",
            "===========================5=============9==========================\n",
            "\n",
            "[[68 21]\n",
            " [20 91]]\n",
            "Train score : 0.9125 CV score 0.795\n",
            "\n",
            "===========================5=============10==========================\n",
            "\n",
            "[[69 20]\n",
            " [20 91]]\n",
            "Train score : 0.91125 CV score 0.8\n",
            "\n",
            "===========================5=============11==========================\n",
            "\n"
          ]
        },
        {
          "output_type": "stream",
          "name": "stderr",
          "text": [
            "<ipython-input-53-1dd8ef2bc507>:16: DataConversionWarning: A column-vector y was passed when a 1d array was expected. Please change the shape of y to (n_samples,), for example using ravel().\n",
            "  classifier.fit(X_train, y_train)\n",
            "<ipython-input-53-1dd8ef2bc507>:16: DataConversionWarning: A column-vector y was passed when a 1d array was expected. Please change the shape of y to (n_samples,), for example using ravel().\n",
            "  classifier.fit(X_train, y_train)\n",
            "<ipython-input-53-1dd8ef2bc507>:16: DataConversionWarning: A column-vector y was passed when a 1d array was expected. Please change the shape of y to (n_samples,), for example using ravel().\n",
            "  classifier.fit(X_train, y_train)\n",
            "<ipython-input-53-1dd8ef2bc507>:16: DataConversionWarning: A column-vector y was passed when a 1d array was expected. Please change the shape of y to (n_samples,), for example using ravel().\n",
            "  classifier.fit(X_train, y_train)\n",
            "<ipython-input-53-1dd8ef2bc507>:16: DataConversionWarning: A column-vector y was passed when a 1d array was expected. Please change the shape of y to (n_samples,), for example using ravel().\n",
            "  classifier.fit(X_train, y_train)\n"
          ]
        },
        {
          "output_type": "stream",
          "name": "stdout",
          "text": [
            "[[69 20]\n",
            " [19 92]]\n",
            "Train score : 0.91125 CV score 0.805\n",
            "\n",
            "===========================5=============12==========================\n",
            "\n",
            "[[74 15]\n",
            " [19 92]]\n",
            "Train score : 0.915 CV score 0.83\n",
            "\n",
            "===========================5=============13==========================\n",
            "\n",
            "[[71 18]\n",
            " [20 91]]\n",
            "Train score : 0.91375 CV score 0.81\n",
            "\n",
            "===========================5=============14==========================\n",
            "\n",
            "[[71 18]\n",
            " [20 91]]\n",
            "Train score : 0.9125 CV score 0.81\n",
            "\n",
            "===========================6=============2==========================\n",
            "\n",
            "[[71 18]\n",
            " [18 93]]\n",
            "Train score : 0.9525 CV score 0.82\n",
            "\n",
            "===========================6=============3==========================\n",
            "\n"
          ]
        },
        {
          "output_type": "stream",
          "name": "stderr",
          "text": [
            "<ipython-input-53-1dd8ef2bc507>:16: DataConversionWarning: A column-vector y was passed when a 1d array was expected. Please change the shape of y to (n_samples,), for example using ravel().\n",
            "  classifier.fit(X_train, y_train)\n",
            "<ipython-input-53-1dd8ef2bc507>:16: DataConversionWarning: A column-vector y was passed when a 1d array was expected. Please change the shape of y to (n_samples,), for example using ravel().\n",
            "  classifier.fit(X_train, y_train)\n",
            "<ipython-input-53-1dd8ef2bc507>:16: DataConversionWarning: A column-vector y was passed when a 1d array was expected. Please change the shape of y to (n_samples,), for example using ravel().\n",
            "  classifier.fit(X_train, y_train)\n",
            "<ipython-input-53-1dd8ef2bc507>:16: DataConversionWarning: A column-vector y was passed when a 1d array was expected. Please change the shape of y to (n_samples,), for example using ravel().\n",
            "  classifier.fit(X_train, y_train)\n",
            "<ipython-input-53-1dd8ef2bc507>:16: DataConversionWarning: A column-vector y was passed when a 1d array was expected. Please change the shape of y to (n_samples,), for example using ravel().\n",
            "  classifier.fit(X_train, y_train)\n"
          ]
        },
        {
          "output_type": "stream",
          "name": "stdout",
          "text": [
            "[[75 14]\n",
            " [18 93]]\n",
            "Train score : 0.94625 CV score 0.84\n",
            "\n",
            "===========================6=============4==========================\n",
            "\n",
            "[[73 16]\n",
            " [18 93]]\n",
            "Train score : 0.95125 CV score 0.83\n",
            "\n",
            "===========================6=============5==========================\n",
            "\n",
            "[[72 17]\n",
            " [22 89]]\n",
            "Train score : 0.95 CV score 0.805\n",
            "\n",
            "===========================6=============6==========================\n",
            "\n",
            "[[77 12]\n",
            " [18 93]]\n",
            "Train score : 0.9525 CV score 0.85\n",
            "\n",
            "===========================6=============7==========================\n",
            "\n",
            "[[72 17]\n",
            " [17 94]]\n",
            "Train score : 0.95625 CV score 0.83\n",
            "\n",
            "===========================6=============8==========================\n",
            "\n"
          ]
        },
        {
          "output_type": "stream",
          "name": "stderr",
          "text": [
            "<ipython-input-53-1dd8ef2bc507>:16: DataConversionWarning: A column-vector y was passed when a 1d array was expected. Please change the shape of y to (n_samples,), for example using ravel().\n",
            "  classifier.fit(X_train, y_train)\n",
            "<ipython-input-53-1dd8ef2bc507>:16: DataConversionWarning: A column-vector y was passed when a 1d array was expected. Please change the shape of y to (n_samples,), for example using ravel().\n",
            "  classifier.fit(X_train, y_train)\n",
            "<ipython-input-53-1dd8ef2bc507>:16: DataConversionWarning: A column-vector y was passed when a 1d array was expected. Please change the shape of y to (n_samples,), for example using ravel().\n",
            "  classifier.fit(X_train, y_train)\n",
            "<ipython-input-53-1dd8ef2bc507>:16: DataConversionWarning: A column-vector y was passed when a 1d array was expected. Please change the shape of y to (n_samples,), for example using ravel().\n",
            "  classifier.fit(X_train, y_train)\n",
            "<ipython-input-53-1dd8ef2bc507>:16: DataConversionWarning: A column-vector y was passed when a 1d array was expected. Please change the shape of y to (n_samples,), for example using ravel().\n",
            "  classifier.fit(X_train, y_train)\n"
          ]
        },
        {
          "output_type": "stream",
          "name": "stdout",
          "text": [
            "[[73 16]\n",
            " [16 95]]\n",
            "Train score : 0.9475 CV score 0.84\n",
            "\n",
            "===========================6=============9==========================\n",
            "\n",
            "[[72 17]\n",
            " [18 93]]\n",
            "Train score : 0.9475 CV score 0.825\n",
            "\n",
            "===========================6=============10==========================\n",
            "\n",
            "[[71 18]\n",
            " [21 90]]\n",
            "Train score : 0.94875 CV score 0.805\n",
            "\n",
            "===========================6=============11==========================\n",
            "\n",
            "[[71 18]\n",
            " [21 90]]\n",
            "Train score : 0.94625 CV score 0.805\n",
            "\n",
            "===========================6=============12==========================\n",
            "\n",
            "[[72 17]\n",
            " [22 89]]\n"
          ]
        },
        {
          "output_type": "stream",
          "name": "stderr",
          "text": [
            "<ipython-input-53-1dd8ef2bc507>:16: DataConversionWarning: A column-vector y was passed when a 1d array was expected. Please change the shape of y to (n_samples,), for example using ravel().\n",
            "  classifier.fit(X_train, y_train)\n",
            "<ipython-input-53-1dd8ef2bc507>:16: DataConversionWarning: A column-vector y was passed when a 1d array was expected. Please change the shape of y to (n_samples,), for example using ravel().\n",
            "  classifier.fit(X_train, y_train)\n",
            "<ipython-input-53-1dd8ef2bc507>:16: DataConversionWarning: A column-vector y was passed when a 1d array was expected. Please change the shape of y to (n_samples,), for example using ravel().\n",
            "  classifier.fit(X_train, y_train)\n",
            "<ipython-input-53-1dd8ef2bc507>:16: DataConversionWarning: A column-vector y was passed when a 1d array was expected. Please change the shape of y to (n_samples,), for example using ravel().\n",
            "  classifier.fit(X_train, y_train)\n",
            "<ipython-input-53-1dd8ef2bc507>:16: DataConversionWarning: A column-vector y was passed when a 1d array was expected. Please change the shape of y to (n_samples,), for example using ravel().\n",
            "  classifier.fit(X_train, y_train)\n"
          ]
        },
        {
          "output_type": "stream",
          "name": "stdout",
          "text": [
            "Train score : 0.94125 CV score 0.805\n",
            "\n",
            "===========================6=============13==========================\n",
            "\n",
            "[[70 19]\n",
            " [20 91]]\n",
            "Train score : 0.9375 CV score 0.805\n",
            "\n",
            "===========================6=============14==========================\n",
            "\n",
            "[[73 16]\n",
            " [25 86]]\n",
            "Train score : 0.93375 CV score 0.795\n",
            "\n",
            "===========================7=============2==========================\n",
            "\n",
            "[[69 20]\n",
            " [20 91]]\n",
            "Train score : 0.96375 CV score 0.8\n",
            "\n",
            "===========================7=============3==========================\n",
            "\n",
            "[[70 19]\n",
            " [19 92]]\n"
          ]
        },
        {
          "output_type": "stream",
          "name": "stderr",
          "text": [
            "<ipython-input-53-1dd8ef2bc507>:16: DataConversionWarning: A column-vector y was passed when a 1d array was expected. Please change the shape of y to (n_samples,), for example using ravel().\n",
            "  classifier.fit(X_train, y_train)\n",
            "<ipython-input-53-1dd8ef2bc507>:16: DataConversionWarning: A column-vector y was passed when a 1d array was expected. Please change the shape of y to (n_samples,), for example using ravel().\n",
            "  classifier.fit(X_train, y_train)\n",
            "<ipython-input-53-1dd8ef2bc507>:16: DataConversionWarning: A column-vector y was passed when a 1d array was expected. Please change the shape of y to (n_samples,), for example using ravel().\n",
            "  classifier.fit(X_train, y_train)\n",
            "<ipython-input-53-1dd8ef2bc507>:16: DataConversionWarning: A column-vector y was passed when a 1d array was expected. Please change the shape of y to (n_samples,), for example using ravel().\n",
            "  classifier.fit(X_train, y_train)\n"
          ]
        },
        {
          "output_type": "stream",
          "name": "stdout",
          "text": [
            "Train score : 0.97375 CV score 0.81\n",
            "\n",
            "===========================7=============4==========================\n",
            "\n",
            "[[68 21]\n",
            " [16 95]]\n",
            "Train score : 0.98 CV score 0.815\n",
            "\n",
            "===========================7=============5==========================\n",
            "\n",
            "[[76 13]\n",
            " [17 94]]\n",
            "Train score : 0.97125 CV score 0.85\n",
            "\n",
            "===========================7=============6==========================\n",
            "\n",
            "[[70 19]\n",
            " [16 95]]\n",
            "Train score : 0.9675 CV score 0.825\n",
            "\n",
            "===========================7=============7==========================\n",
            "\n"
          ]
        },
        {
          "output_type": "stream",
          "name": "stderr",
          "text": [
            "<ipython-input-53-1dd8ef2bc507>:16: DataConversionWarning: A column-vector y was passed when a 1d array was expected. Please change the shape of y to (n_samples,), for example using ravel().\n",
            "  classifier.fit(X_train, y_train)\n",
            "<ipython-input-53-1dd8ef2bc507>:16: DataConversionWarning: A column-vector y was passed when a 1d array was expected. Please change the shape of y to (n_samples,), for example using ravel().\n",
            "  classifier.fit(X_train, y_train)\n",
            "<ipython-input-53-1dd8ef2bc507>:16: DataConversionWarning: A column-vector y was passed when a 1d array was expected. Please change the shape of y to (n_samples,), for example using ravel().\n",
            "  classifier.fit(X_train, y_train)\n",
            "<ipython-input-53-1dd8ef2bc507>:16: DataConversionWarning: A column-vector y was passed when a 1d array was expected. Please change the shape of y to (n_samples,), for example using ravel().\n",
            "  classifier.fit(X_train, y_train)\n"
          ]
        },
        {
          "output_type": "stream",
          "name": "stdout",
          "text": [
            "[[70 19]\n",
            " [14 97]]\n",
            "Train score : 0.97625 CV score 0.835\n",
            "\n",
            "===========================7=============8==========================\n",
            "\n",
            "[[67 22]\n",
            " [14 97]]\n",
            "Train score : 0.95625 CV score 0.82\n",
            "\n",
            "===========================7=============9==========================\n",
            "\n",
            "[[73 16]\n",
            " [17 94]]\n",
            "Train score : 0.9625 CV score 0.835\n",
            "\n",
            "===========================7=============10==========================\n",
            "\n",
            "[[72 17]\n",
            " [17 94]]\n",
            "Train score : 0.9725 CV score 0.83\n",
            "\n",
            "===========================7=============11==========================\n",
            "\n"
          ]
        },
        {
          "output_type": "stream",
          "name": "stderr",
          "text": [
            "<ipython-input-53-1dd8ef2bc507>:16: DataConversionWarning: A column-vector y was passed when a 1d array was expected. Please change the shape of y to (n_samples,), for example using ravel().\n",
            "  classifier.fit(X_train, y_train)\n",
            "<ipython-input-53-1dd8ef2bc507>:16: DataConversionWarning: A column-vector y was passed when a 1d array was expected. Please change the shape of y to (n_samples,), for example using ravel().\n",
            "  classifier.fit(X_train, y_train)\n",
            "<ipython-input-53-1dd8ef2bc507>:16: DataConversionWarning: A column-vector y was passed when a 1d array was expected. Please change the shape of y to (n_samples,), for example using ravel().\n",
            "  classifier.fit(X_train, y_train)\n",
            "<ipython-input-53-1dd8ef2bc507>:16: DataConversionWarning: A column-vector y was passed when a 1d array was expected. Please change the shape of y to (n_samples,), for example using ravel().\n",
            "  classifier.fit(X_train, y_train)\n"
          ]
        },
        {
          "output_type": "stream",
          "name": "stdout",
          "text": [
            "[[73 16]\n",
            " [14 97]]\n",
            "Train score : 0.96125 CV score 0.85\n",
            "\n",
            "===========================7=============12==========================\n",
            "\n",
            "[[71 18]\n",
            " [15 96]]\n",
            "Train score : 0.95625 CV score 0.835\n",
            "\n",
            "===========================7=============13==========================\n",
            "\n",
            "[[69 20]\n",
            " [14 97]]\n",
            "Train score : 0.95375 CV score 0.83\n",
            "\n",
            "===========================7=============14==========================\n",
            "\n",
            "[[73 16]\n",
            " [20 91]]\n",
            "Train score : 0.95375 CV score 0.82\n",
            "\n",
            "===========================8=============2==========================\n",
            "\n"
          ]
        },
        {
          "output_type": "stream",
          "name": "stderr",
          "text": [
            "<ipython-input-53-1dd8ef2bc507>:16: DataConversionWarning: A column-vector y was passed when a 1d array was expected. Please change the shape of y to (n_samples,), for example using ravel().\n",
            "  classifier.fit(X_train, y_train)\n",
            "<ipython-input-53-1dd8ef2bc507>:16: DataConversionWarning: A column-vector y was passed when a 1d array was expected. Please change the shape of y to (n_samples,), for example using ravel().\n",
            "  classifier.fit(X_train, y_train)\n",
            "<ipython-input-53-1dd8ef2bc507>:16: DataConversionWarning: A column-vector y was passed when a 1d array was expected. Please change the shape of y to (n_samples,), for example using ravel().\n",
            "  classifier.fit(X_train, y_train)\n",
            "<ipython-input-53-1dd8ef2bc507>:16: DataConversionWarning: A column-vector y was passed when a 1d array was expected. Please change the shape of y to (n_samples,), for example using ravel().\n",
            "  classifier.fit(X_train, y_train)\n"
          ]
        },
        {
          "output_type": "stream",
          "name": "stdout",
          "text": [
            "[[73 16]\n",
            " [15 96]]\n",
            "Train score : 0.9825 CV score 0.845\n",
            "\n",
            "===========================8=============3==========================\n",
            "\n",
            "[[ 69  20]\n",
            " [ 11 100]]\n",
            "Train score : 0.97875 CV score 0.845\n",
            "\n",
            "===========================8=============4==========================\n",
            "\n",
            "[[73 16]\n",
            " [16 95]]\n",
            "Train score : 0.97625 CV score 0.84\n",
            "\n",
            "===========================8=============5==========================\n",
            "\n",
            "[[77 12]\n",
            " [18 93]]\n",
            "Train score : 0.98375 CV score 0.85\n",
            "\n",
            "===========================8=============6==========================\n",
            "\n"
          ]
        },
        {
          "output_type": "stream",
          "name": "stderr",
          "text": [
            "<ipython-input-53-1dd8ef2bc507>:16: DataConversionWarning: A column-vector y was passed when a 1d array was expected. Please change the shape of y to (n_samples,), for example using ravel().\n",
            "  classifier.fit(X_train, y_train)\n",
            "<ipython-input-53-1dd8ef2bc507>:16: DataConversionWarning: A column-vector y was passed when a 1d array was expected. Please change the shape of y to (n_samples,), for example using ravel().\n",
            "  classifier.fit(X_train, y_train)\n",
            "<ipython-input-53-1dd8ef2bc507>:16: DataConversionWarning: A column-vector y was passed when a 1d array was expected. Please change the shape of y to (n_samples,), for example using ravel().\n",
            "  classifier.fit(X_train, y_train)\n",
            "<ipython-input-53-1dd8ef2bc507>:16: DataConversionWarning: A column-vector y was passed when a 1d array was expected. Please change the shape of y to (n_samples,), for example using ravel().\n",
            "  classifier.fit(X_train, y_train)\n"
          ]
        },
        {
          "output_type": "stream",
          "name": "stdout",
          "text": [
            "[[74 15]\n",
            " [17 94]]\n",
            "Train score : 0.98625 CV score 0.84\n",
            "\n",
            "===========================8=============7==========================\n",
            "\n",
            "[[76 13]\n",
            " [17 94]]\n",
            "Train score : 0.9775 CV score 0.85\n",
            "\n",
            "===========================8=============8==========================\n",
            "\n",
            "[[72 17]\n",
            " [16 95]]\n",
            "Train score : 0.97 CV score 0.835\n",
            "\n",
            "===========================8=============9==========================\n",
            "\n",
            "[[73 16]\n",
            " [18 93]]\n",
            "Train score : 0.9725 CV score 0.83\n",
            "\n",
            "===========================8=============10==========================\n",
            "\n"
          ]
        },
        {
          "output_type": "stream",
          "name": "stderr",
          "text": [
            "<ipython-input-53-1dd8ef2bc507>:16: DataConversionWarning: A column-vector y was passed when a 1d array was expected. Please change the shape of y to (n_samples,), for example using ravel().\n",
            "  classifier.fit(X_train, y_train)\n",
            "<ipython-input-53-1dd8ef2bc507>:16: DataConversionWarning: A column-vector y was passed when a 1d array was expected. Please change the shape of y to (n_samples,), for example using ravel().\n",
            "  classifier.fit(X_train, y_train)\n",
            "<ipython-input-53-1dd8ef2bc507>:16: DataConversionWarning: A column-vector y was passed when a 1d array was expected. Please change the shape of y to (n_samples,), for example using ravel().\n",
            "  classifier.fit(X_train, y_train)\n",
            "<ipython-input-53-1dd8ef2bc507>:16: DataConversionWarning: A column-vector y was passed when a 1d array was expected. Please change the shape of y to (n_samples,), for example using ravel().\n",
            "  classifier.fit(X_train, y_train)\n"
          ]
        },
        {
          "output_type": "stream",
          "name": "stdout",
          "text": [
            "[[70 19]\n",
            " [20 91]]\n",
            "Train score : 0.96125 CV score 0.805\n",
            "\n",
            "===========================8=============11==========================\n",
            "\n",
            "[[69 20]\n",
            " [16 95]]\n",
            "Train score : 0.96 CV score 0.82\n",
            "\n",
            "===========================8=============12==========================\n",
            "\n",
            "[[71 18]\n",
            " [16 95]]\n",
            "Train score : 0.9575 CV score 0.83\n",
            "\n",
            "===========================8=============13==========================\n",
            "\n",
            "[[72 17]\n",
            " [14 97]]\n",
            "Train score : 0.96 CV score 0.845\n",
            "\n",
            "===========================8=============14==========================\n",
            "\n"
          ]
        },
        {
          "output_type": "stream",
          "name": "stderr",
          "text": [
            "<ipython-input-53-1dd8ef2bc507>:16: DataConversionWarning: A column-vector y was passed when a 1d array was expected. Please change the shape of y to (n_samples,), for example using ravel().\n",
            "  classifier.fit(X_train, y_train)\n",
            "<ipython-input-53-1dd8ef2bc507>:16: DataConversionWarning: A column-vector y was passed when a 1d array was expected. Please change the shape of y to (n_samples,), for example using ravel().\n",
            "  classifier.fit(X_train, y_train)\n",
            "<ipython-input-53-1dd8ef2bc507>:16: DataConversionWarning: A column-vector y was passed when a 1d array was expected. Please change the shape of y to (n_samples,), for example using ravel().\n",
            "  classifier.fit(X_train, y_train)\n",
            "<ipython-input-53-1dd8ef2bc507>:16: DataConversionWarning: A column-vector y was passed when a 1d array was expected. Please change the shape of y to (n_samples,), for example using ravel().\n",
            "  classifier.fit(X_train, y_train)\n"
          ]
        },
        {
          "output_type": "stream",
          "name": "stdout",
          "text": [
            "[[72 17]\n",
            " [16 95]]\n",
            "Train score : 0.9525 CV score 0.835\n",
            "\n",
            "===========================9=============2==========================\n",
            "\n",
            "[[77 12]\n",
            " [23 88]]\n",
            "Train score : 0.9925 CV score 0.825\n",
            "\n",
            "===========================9=============3==========================\n",
            "\n",
            "[[75 14]\n",
            " [17 94]]\n",
            "Train score : 0.98875 CV score 0.845\n",
            "\n",
            "===========================9=============4==========================\n",
            "\n",
            "[[76 13]\n",
            " [15 96]]\n",
            "Train score : 0.98625 CV score 0.86\n",
            "\n",
            "===========================9=============5==========================\n",
            "\n"
          ]
        },
        {
          "output_type": "stream",
          "name": "stderr",
          "text": [
            "<ipython-input-53-1dd8ef2bc507>:16: DataConversionWarning: A column-vector y was passed when a 1d array was expected. Please change the shape of y to (n_samples,), for example using ravel().\n",
            "  classifier.fit(X_train, y_train)\n",
            "<ipython-input-53-1dd8ef2bc507>:16: DataConversionWarning: A column-vector y was passed when a 1d array was expected. Please change the shape of y to (n_samples,), for example using ravel().\n",
            "  classifier.fit(X_train, y_train)\n",
            "<ipython-input-53-1dd8ef2bc507>:16: DataConversionWarning: A column-vector y was passed when a 1d array was expected. Please change the shape of y to (n_samples,), for example using ravel().\n",
            "  classifier.fit(X_train, y_train)\n",
            "<ipython-input-53-1dd8ef2bc507>:16: DataConversionWarning: A column-vector y was passed when a 1d array was expected. Please change the shape of y to (n_samples,), for example using ravel().\n",
            "  classifier.fit(X_train, y_train)\n"
          ]
        },
        {
          "output_type": "stream",
          "name": "stdout",
          "text": [
            "[[74 15]\n",
            " [19 92]]\n",
            "Train score : 0.98875 CV score 0.83\n",
            "\n",
            "===========================9=============6==========================\n",
            "\n",
            "[[77 12]\n",
            " [16 95]]\n",
            "Train score : 0.98375 CV score 0.86\n",
            "\n",
            "===========================9=============7==========================\n",
            "\n",
            "[[73 16]\n",
            " [14 97]]\n",
            "Train score : 0.98625 CV score 0.85\n",
            "\n",
            "===========================9=============8==========================\n",
            "\n",
            "[[68 21]\n",
            " [17 94]]\n",
            "Train score : 0.9775 CV score 0.81\n",
            "\n",
            "===========================9=============9==========================\n",
            "\n"
          ]
        },
        {
          "output_type": "stream",
          "name": "stderr",
          "text": [
            "<ipython-input-53-1dd8ef2bc507>:16: DataConversionWarning: A column-vector y was passed when a 1d array was expected. Please change the shape of y to (n_samples,), for example using ravel().\n",
            "  classifier.fit(X_train, y_train)\n",
            "<ipython-input-53-1dd8ef2bc507>:16: DataConversionWarning: A column-vector y was passed when a 1d array was expected. Please change the shape of y to (n_samples,), for example using ravel().\n",
            "  classifier.fit(X_train, y_train)\n",
            "<ipython-input-53-1dd8ef2bc507>:16: DataConversionWarning: A column-vector y was passed when a 1d array was expected. Please change the shape of y to (n_samples,), for example using ravel().\n",
            "  classifier.fit(X_train, y_train)\n",
            "<ipython-input-53-1dd8ef2bc507>:16: DataConversionWarning: A column-vector y was passed when a 1d array was expected. Please change the shape of y to (n_samples,), for example using ravel().\n",
            "  classifier.fit(X_train, y_train)\n"
          ]
        },
        {
          "output_type": "stream",
          "name": "stdout",
          "text": [
            "[[73 16]\n",
            " [13 98]]\n",
            "Train score : 0.97625 CV score 0.855\n",
            "\n",
            "===========================9=============10==========================\n",
            "\n",
            "[[70 19]\n",
            " [18 93]]\n",
            "Train score : 0.975 CV score 0.815\n",
            "\n",
            "===========================9=============11==========================\n",
            "\n",
            "[[73 16]\n",
            " [20 91]]\n",
            "Train score : 0.9775 CV score 0.82\n",
            "\n",
            "===========================9=============12==========================\n",
            "\n",
            "[[73 16]\n",
            " [19 92]]\n",
            "Train score : 0.97625 CV score 0.825\n",
            "\n",
            "===========================9=============13==========================\n",
            "\n"
          ]
        },
        {
          "output_type": "stream",
          "name": "stderr",
          "text": [
            "<ipython-input-53-1dd8ef2bc507>:16: DataConversionWarning: A column-vector y was passed when a 1d array was expected. Please change the shape of y to (n_samples,), for example using ravel().\n",
            "  classifier.fit(X_train, y_train)\n",
            "<ipython-input-53-1dd8ef2bc507>:16: DataConversionWarning: A column-vector y was passed when a 1d array was expected. Please change the shape of y to (n_samples,), for example using ravel().\n",
            "  classifier.fit(X_train, y_train)\n",
            "<ipython-input-53-1dd8ef2bc507>:16: DataConversionWarning: A column-vector y was passed when a 1d array was expected. Please change the shape of y to (n_samples,), for example using ravel().\n",
            "  classifier.fit(X_train, y_train)\n",
            "<ipython-input-53-1dd8ef2bc507>:16: DataConversionWarning: A column-vector y was passed when a 1d array was expected. Please change the shape of y to (n_samples,), for example using ravel().\n",
            "  classifier.fit(X_train, y_train)\n"
          ]
        },
        {
          "output_type": "stream",
          "name": "stdout",
          "text": [
            "[[75 14]\n",
            " [21 90]]\n",
            "Train score : 0.96875 CV score 0.825\n",
            "\n",
            "===========================9=============14==========================\n",
            "\n",
            "[[68 21]\n",
            " [18 93]]\n",
            "Train score : 0.965 CV score 0.805\n",
            "\n",
            "===========================10=============2==========================\n",
            "\n",
            "[[75 14]\n",
            " [23 88]]\n",
            "Train score : 0.9925 CV score 0.815\n",
            "\n",
            "===========================10=============3==========================\n",
            "\n",
            "[[76 13]\n",
            " [17 94]]\n",
            "Train score : 0.99375 CV score 0.85\n",
            "\n",
            "===========================10=============4==========================\n",
            "\n"
          ]
        },
        {
          "output_type": "stream",
          "name": "stderr",
          "text": [
            "<ipython-input-53-1dd8ef2bc507>:16: DataConversionWarning: A column-vector y was passed when a 1d array was expected. Please change the shape of y to (n_samples,), for example using ravel().\n",
            "  classifier.fit(X_train, y_train)\n",
            "<ipython-input-53-1dd8ef2bc507>:16: DataConversionWarning: A column-vector y was passed when a 1d array was expected. Please change the shape of y to (n_samples,), for example using ravel().\n",
            "  classifier.fit(X_train, y_train)\n",
            "<ipython-input-53-1dd8ef2bc507>:16: DataConversionWarning: A column-vector y was passed when a 1d array was expected. Please change the shape of y to (n_samples,), for example using ravel().\n",
            "  classifier.fit(X_train, y_train)\n",
            "<ipython-input-53-1dd8ef2bc507>:16: DataConversionWarning: A column-vector y was passed when a 1d array was expected. Please change the shape of y to (n_samples,), for example using ravel().\n",
            "  classifier.fit(X_train, y_train)\n"
          ]
        },
        {
          "output_type": "stream",
          "name": "stdout",
          "text": [
            "[[77 12]\n",
            " [15 96]]\n",
            "Train score : 0.995 CV score 0.865\n",
            "\n",
            "===========================10=============5==========================\n",
            "\n",
            "[[72 17]\n",
            " [15 96]]\n",
            "Train score : 0.98875 CV score 0.84\n",
            "\n",
            "===========================10=============6==========================\n",
            "\n",
            "[[74 15]\n",
            " [19 92]]\n",
            "Train score : 0.9875 CV score 0.83\n",
            "\n",
            "===========================10=============7==========================\n",
            "\n",
            "[[74 15]\n",
            " [15 96]]\n",
            "Train score : 0.9875 CV score 0.85\n",
            "\n",
            "===========================10=============8==========================\n",
            "\n"
          ]
        },
        {
          "output_type": "stream",
          "name": "stderr",
          "text": [
            "<ipython-input-53-1dd8ef2bc507>:16: DataConversionWarning: A column-vector y was passed when a 1d array was expected. Please change the shape of y to (n_samples,), for example using ravel().\n",
            "  classifier.fit(X_train, y_train)\n",
            "<ipython-input-53-1dd8ef2bc507>:16: DataConversionWarning: A column-vector y was passed when a 1d array was expected. Please change the shape of y to (n_samples,), for example using ravel().\n",
            "  classifier.fit(X_train, y_train)\n",
            "<ipython-input-53-1dd8ef2bc507>:16: DataConversionWarning: A column-vector y was passed when a 1d array was expected. Please change the shape of y to (n_samples,), for example using ravel().\n",
            "  classifier.fit(X_train, y_train)\n",
            "<ipython-input-53-1dd8ef2bc507>:16: DataConversionWarning: A column-vector y was passed when a 1d array was expected. Please change the shape of y to (n_samples,), for example using ravel().\n",
            "  classifier.fit(X_train, y_train)\n"
          ]
        },
        {
          "output_type": "stream",
          "name": "stdout",
          "text": [
            "[[74 15]\n",
            " [15 96]]\n",
            "Train score : 0.98625 CV score 0.85\n",
            "\n",
            "===========================10=============9==========================\n",
            "\n",
            "[[74 15]\n",
            " [16 95]]\n",
            "Train score : 0.9825 CV score 0.845\n",
            "\n",
            "===========================10=============10==========================\n",
            "\n",
            "[[70 19]\n",
            " [19 92]]\n",
            "Train score : 0.98 CV score 0.81\n",
            "\n",
            "===========================10=============11==========================\n",
            "\n",
            "[[74 15]\n",
            " [18 93]]\n",
            "Train score : 0.98125 CV score 0.835\n",
            "\n",
            "===========================10=============12==========================\n",
            "\n"
          ]
        },
        {
          "output_type": "stream",
          "name": "stderr",
          "text": [
            "<ipython-input-53-1dd8ef2bc507>:16: DataConversionWarning: A column-vector y was passed when a 1d array was expected. Please change the shape of y to (n_samples,), for example using ravel().\n",
            "  classifier.fit(X_train, y_train)\n",
            "<ipython-input-53-1dd8ef2bc507>:16: DataConversionWarning: A column-vector y was passed when a 1d array was expected. Please change the shape of y to (n_samples,), for example using ravel().\n",
            "  classifier.fit(X_train, y_train)\n",
            "<ipython-input-53-1dd8ef2bc507>:16: DataConversionWarning: A column-vector y was passed when a 1d array was expected. Please change the shape of y to (n_samples,), for example using ravel().\n",
            "  classifier.fit(X_train, y_train)\n",
            "<ipython-input-53-1dd8ef2bc507>:16: DataConversionWarning: A column-vector y was passed when a 1d array was expected. Please change the shape of y to (n_samples,), for example using ravel().\n",
            "  classifier.fit(X_train, y_train)\n"
          ]
        },
        {
          "output_type": "stream",
          "name": "stdout",
          "text": [
            "[[70 19]\n",
            " [22 89]]\n",
            "Train score : 0.97 CV score 0.795\n",
            "\n",
            "===========================10=============13==========================\n",
            "\n",
            "[[71 18]\n",
            " [17 94]]\n",
            "Train score : 0.97 CV score 0.825\n",
            "\n",
            "===========================10=============14==========================\n",
            "\n",
            "[[70 19]\n",
            " [17 94]]\n",
            "Train score : 0.97 CV score 0.82\n",
            "\n",
            "===========================11=============2==========================\n",
            "\n",
            "[[76 13]\n",
            " [20 91]]\n",
            "Train score : 0.99625 CV score 0.835\n",
            "\n",
            "===========================11=============3==========================\n",
            "\n"
          ]
        },
        {
          "output_type": "stream",
          "name": "stderr",
          "text": [
            "<ipython-input-53-1dd8ef2bc507>:16: DataConversionWarning: A column-vector y was passed when a 1d array was expected. Please change the shape of y to (n_samples,), for example using ravel().\n",
            "  classifier.fit(X_train, y_train)\n",
            "<ipython-input-53-1dd8ef2bc507>:16: DataConversionWarning: A column-vector y was passed when a 1d array was expected. Please change the shape of y to (n_samples,), for example using ravel().\n",
            "  classifier.fit(X_train, y_train)\n",
            "<ipython-input-53-1dd8ef2bc507>:16: DataConversionWarning: A column-vector y was passed when a 1d array was expected. Please change the shape of y to (n_samples,), for example using ravel().\n",
            "  classifier.fit(X_train, y_train)\n",
            "<ipython-input-53-1dd8ef2bc507>:16: DataConversionWarning: A column-vector y was passed when a 1d array was expected. Please change the shape of y to (n_samples,), for example using ravel().\n",
            "  classifier.fit(X_train, y_train)\n"
          ]
        },
        {
          "output_type": "stream",
          "name": "stdout",
          "text": [
            "[[75 14]\n",
            " [17 94]]\n",
            "Train score : 0.995 CV score 0.845\n",
            "\n",
            "===========================11=============4==========================\n",
            "\n",
            "[[72 17]\n",
            " [15 96]]\n",
            "Train score : 0.9925 CV score 0.84\n",
            "\n",
            "===========================11=============5==========================\n",
            "\n",
            "[[73 16]\n",
            " [17 94]]\n",
            "Train score : 0.99 CV score 0.835\n",
            "\n",
            "===========================11=============6==========================\n",
            "\n",
            "[[74 15]\n",
            " [20 91]]\n",
            "Train score : 0.9925 CV score 0.825\n",
            "\n",
            "===========================11=============7==========================\n",
            "\n"
          ]
        },
        {
          "output_type": "stream",
          "name": "stderr",
          "text": [
            "<ipython-input-53-1dd8ef2bc507>:16: DataConversionWarning: A column-vector y was passed when a 1d array was expected. Please change the shape of y to (n_samples,), for example using ravel().\n",
            "  classifier.fit(X_train, y_train)\n",
            "<ipython-input-53-1dd8ef2bc507>:16: DataConversionWarning: A column-vector y was passed when a 1d array was expected. Please change the shape of y to (n_samples,), for example using ravel().\n",
            "  classifier.fit(X_train, y_train)\n",
            "<ipython-input-53-1dd8ef2bc507>:16: DataConversionWarning: A column-vector y was passed when a 1d array was expected. Please change the shape of y to (n_samples,), for example using ravel().\n",
            "  classifier.fit(X_train, y_train)\n",
            "<ipython-input-53-1dd8ef2bc507>:16: DataConversionWarning: A column-vector y was passed when a 1d array was expected. Please change the shape of y to (n_samples,), for example using ravel().\n",
            "  classifier.fit(X_train, y_train)\n"
          ]
        },
        {
          "output_type": "stream",
          "name": "stdout",
          "text": [
            "[[73 16]\n",
            " [20 91]]\n",
            "Train score : 0.98875 CV score 0.82\n",
            "\n",
            "===========================11=============8==========================\n",
            "\n",
            "[[74 15]\n",
            " [15 96]]\n",
            "Train score : 0.9925 CV score 0.85\n",
            "\n",
            "===========================11=============9==========================\n",
            "\n",
            "[[72 17]\n",
            " [17 94]]\n",
            "Train score : 0.985 CV score 0.83\n",
            "\n",
            "===========================11=============10==========================\n",
            "\n",
            "[[72 17]\n",
            " [18 93]]\n",
            "Train score : 0.9825 CV score 0.825\n",
            "\n",
            "===========================11=============11==========================\n",
            "\n"
          ]
        },
        {
          "output_type": "stream",
          "name": "stderr",
          "text": [
            "<ipython-input-53-1dd8ef2bc507>:16: DataConversionWarning: A column-vector y was passed when a 1d array was expected. Please change the shape of y to (n_samples,), for example using ravel().\n",
            "  classifier.fit(X_train, y_train)\n",
            "<ipython-input-53-1dd8ef2bc507>:16: DataConversionWarning: A column-vector y was passed when a 1d array was expected. Please change the shape of y to (n_samples,), for example using ravel().\n",
            "  classifier.fit(X_train, y_train)\n",
            "<ipython-input-53-1dd8ef2bc507>:16: DataConversionWarning: A column-vector y was passed when a 1d array was expected. Please change the shape of y to (n_samples,), for example using ravel().\n",
            "  classifier.fit(X_train, y_train)\n",
            "<ipython-input-53-1dd8ef2bc507>:16: DataConversionWarning: A column-vector y was passed when a 1d array was expected. Please change the shape of y to (n_samples,), for example using ravel().\n",
            "  classifier.fit(X_train, y_train)\n"
          ]
        },
        {
          "output_type": "stream",
          "name": "stdout",
          "text": [
            "[[68 21]\n",
            " [18 93]]\n",
            "Train score : 0.98125 CV score 0.805\n",
            "\n",
            "===========================11=============12==========================\n",
            "\n",
            "[[72 17]\n",
            " [16 95]]\n",
            "Train score : 0.975 CV score 0.835\n",
            "\n",
            "===========================11=============13==========================\n",
            "\n",
            "[[70 19]\n",
            " [16 95]]\n",
            "Train score : 0.97625 CV score 0.825\n",
            "\n",
            "===========================11=============14==========================\n",
            "\n",
            "[[70 19]\n",
            " [18 93]]\n",
            "Train score : 0.97125 CV score 0.815\n",
            "\n",
            "===========================12=============2==========================\n",
            "\n"
          ]
        },
        {
          "output_type": "stream",
          "name": "stderr",
          "text": [
            "<ipython-input-53-1dd8ef2bc507>:16: DataConversionWarning: A column-vector y was passed when a 1d array was expected. Please change the shape of y to (n_samples,), for example using ravel().\n",
            "  classifier.fit(X_train, y_train)\n",
            "<ipython-input-53-1dd8ef2bc507>:16: DataConversionWarning: A column-vector y was passed when a 1d array was expected. Please change the shape of y to (n_samples,), for example using ravel().\n",
            "  classifier.fit(X_train, y_train)\n",
            "<ipython-input-53-1dd8ef2bc507>:16: DataConversionWarning: A column-vector y was passed when a 1d array was expected. Please change the shape of y to (n_samples,), for example using ravel().\n",
            "  classifier.fit(X_train, y_train)\n",
            "<ipython-input-53-1dd8ef2bc507>:16: DataConversionWarning: A column-vector y was passed when a 1d array was expected. Please change the shape of y to (n_samples,), for example using ravel().\n",
            "  classifier.fit(X_train, y_train)\n"
          ]
        },
        {
          "output_type": "stream",
          "name": "stdout",
          "text": [
            "[[74 15]\n",
            " [23 88]]\n",
            "Train score : 0.99625 CV score 0.81\n",
            "\n",
            "===========================12=============3==========================\n",
            "\n",
            "[[75 14]\n",
            " [19 92]]\n",
            "Train score : 0.99625 CV score 0.835\n",
            "\n",
            "===========================12=============4==========================\n",
            "\n",
            "[[76 13]\n",
            " [18 93]]\n",
            "Train score : 0.99125 CV score 0.845\n",
            "\n",
            "===========================12=============5==========================\n",
            "\n",
            "[[76 13]\n",
            " [23 88]]\n",
            "Train score : 0.98875 CV score 0.82\n",
            "\n",
            "===========================12=============6==========================\n",
            "\n"
          ]
        },
        {
          "output_type": "stream",
          "name": "stderr",
          "text": [
            "<ipython-input-53-1dd8ef2bc507>:16: DataConversionWarning: A column-vector y was passed when a 1d array was expected. Please change the shape of y to (n_samples,), for example using ravel().\n",
            "  classifier.fit(X_train, y_train)\n",
            "<ipython-input-53-1dd8ef2bc507>:16: DataConversionWarning: A column-vector y was passed when a 1d array was expected. Please change the shape of y to (n_samples,), for example using ravel().\n",
            "  classifier.fit(X_train, y_train)\n",
            "<ipython-input-53-1dd8ef2bc507>:16: DataConversionWarning: A column-vector y was passed when a 1d array was expected. Please change the shape of y to (n_samples,), for example using ravel().\n",
            "  classifier.fit(X_train, y_train)\n",
            "<ipython-input-53-1dd8ef2bc507>:16: DataConversionWarning: A column-vector y was passed when a 1d array was expected. Please change the shape of y to (n_samples,), for example using ravel().\n",
            "  classifier.fit(X_train, y_train)\n"
          ]
        },
        {
          "output_type": "stream",
          "name": "stdout",
          "text": [
            "[[72 17]\n",
            " [24 87]]\n",
            "Train score : 0.995 CV score 0.795\n",
            "\n",
            "===========================12=============7==========================\n",
            "\n",
            "[[75 14]\n",
            " [21 90]]\n",
            "Train score : 0.99 CV score 0.825\n",
            "\n",
            "===========================12=============8==========================\n",
            "\n",
            "[[77 12]\n",
            " [16 95]]\n",
            "Train score : 0.99 CV score 0.86\n",
            "\n",
            "===========================12=============9==========================\n",
            "\n",
            "[[75 14]\n",
            " [17 94]]\n",
            "Train score : 0.9925 CV score 0.845\n",
            "\n",
            "===========================12=============10==========================\n",
            "\n"
          ]
        },
        {
          "output_type": "stream",
          "name": "stderr",
          "text": [
            "<ipython-input-53-1dd8ef2bc507>:16: DataConversionWarning: A column-vector y was passed when a 1d array was expected. Please change the shape of y to (n_samples,), for example using ravel().\n",
            "  classifier.fit(X_train, y_train)\n",
            "<ipython-input-53-1dd8ef2bc507>:16: DataConversionWarning: A column-vector y was passed when a 1d array was expected. Please change the shape of y to (n_samples,), for example using ravel().\n",
            "  classifier.fit(X_train, y_train)\n",
            "<ipython-input-53-1dd8ef2bc507>:16: DataConversionWarning: A column-vector y was passed when a 1d array was expected. Please change the shape of y to (n_samples,), for example using ravel().\n",
            "  classifier.fit(X_train, y_train)\n",
            "<ipython-input-53-1dd8ef2bc507>:16: DataConversionWarning: A column-vector y was passed when a 1d array was expected. Please change the shape of y to (n_samples,), for example using ravel().\n",
            "  classifier.fit(X_train, y_train)\n"
          ]
        },
        {
          "output_type": "stream",
          "name": "stdout",
          "text": [
            "[[74 15]\n",
            " [17 94]]\n",
            "Train score : 0.985 CV score 0.84\n",
            "\n",
            "===========================12=============11==========================\n",
            "\n",
            "[[74 15]\n",
            " [16 95]]\n",
            "Train score : 0.9775 CV score 0.845\n",
            "\n",
            "===========================12=============12==========================\n",
            "\n",
            "[[75 14]\n",
            " [18 93]]\n",
            "Train score : 0.97875 CV score 0.84\n",
            "\n",
            "===========================12=============13==========================\n",
            "\n",
            "[[69 20]\n",
            " [16 95]]\n",
            "Train score : 0.97625 CV score 0.82\n",
            "\n",
            "===========================12=============14==========================\n",
            "\n"
          ]
        },
        {
          "output_type": "stream",
          "name": "stderr",
          "text": [
            "<ipython-input-53-1dd8ef2bc507>:16: DataConversionWarning: A column-vector y was passed when a 1d array was expected. Please change the shape of y to (n_samples,), for example using ravel().\n",
            "  classifier.fit(X_train, y_train)\n",
            "<ipython-input-53-1dd8ef2bc507>:16: DataConversionWarning: A column-vector y was passed when a 1d array was expected. Please change the shape of y to (n_samples,), for example using ravel().\n",
            "  classifier.fit(X_train, y_train)\n",
            "<ipython-input-53-1dd8ef2bc507>:16: DataConversionWarning: A column-vector y was passed when a 1d array was expected. Please change the shape of y to (n_samples,), for example using ravel().\n",
            "  classifier.fit(X_train, y_train)\n",
            "<ipython-input-53-1dd8ef2bc507>:16: DataConversionWarning: A column-vector y was passed when a 1d array was expected. Please change the shape of y to (n_samples,), for example using ravel().\n",
            "  classifier.fit(X_train, y_train)\n"
          ]
        },
        {
          "output_type": "stream",
          "name": "stdout",
          "text": [
            "[[71 18]\n",
            " [19 92]]\n",
            "Train score : 0.97 CV score 0.815\n",
            "\n",
            "===========================13=============2==========================\n",
            "\n",
            "[[73 16]\n",
            " [22 89]]\n",
            "Train score : 0.9975 CV score 0.81\n",
            "\n",
            "===========================13=============3==========================\n",
            "\n",
            "[[77 12]\n",
            " [16 95]]\n",
            "Train score : 0.99375 CV score 0.86\n",
            "\n",
            "===========================13=============4==========================\n",
            "\n",
            "[[74 15]\n",
            " [19 92]]\n",
            "Train score : 0.99125 CV score 0.83\n",
            "\n",
            "===========================13=============5==========================\n",
            "\n"
          ]
        },
        {
          "output_type": "stream",
          "name": "stderr",
          "text": [
            "<ipython-input-53-1dd8ef2bc507>:16: DataConversionWarning: A column-vector y was passed when a 1d array was expected. Please change the shape of y to (n_samples,), for example using ravel().\n",
            "  classifier.fit(X_train, y_train)\n",
            "<ipython-input-53-1dd8ef2bc507>:16: DataConversionWarning: A column-vector y was passed when a 1d array was expected. Please change the shape of y to (n_samples,), for example using ravel().\n",
            "  classifier.fit(X_train, y_train)\n",
            "<ipython-input-53-1dd8ef2bc507>:16: DataConversionWarning: A column-vector y was passed when a 1d array was expected. Please change the shape of y to (n_samples,), for example using ravel().\n",
            "  classifier.fit(X_train, y_train)\n",
            "<ipython-input-53-1dd8ef2bc507>:16: DataConversionWarning: A column-vector y was passed when a 1d array was expected. Please change the shape of y to (n_samples,), for example using ravel().\n",
            "  classifier.fit(X_train, y_train)\n"
          ]
        },
        {
          "output_type": "stream",
          "name": "stdout",
          "text": [
            "[[75 14]\n",
            " [20 91]]\n",
            "Train score : 0.99 CV score 0.83\n",
            "\n",
            "===========================13=============6==========================\n",
            "\n",
            "[[73 16]\n",
            " [23 88]]\n",
            "Train score : 0.995 CV score 0.805\n",
            "\n",
            "===========================13=============7==========================\n",
            "\n",
            "[[73 16]\n",
            " [22 89]]\n",
            "Train score : 0.9925 CV score 0.81\n",
            "\n",
            "===========================13=============8==========================\n",
            "\n",
            "[[76 13]\n",
            " [16 95]]\n",
            "Train score : 0.99 CV score 0.855\n",
            "\n",
            "===========================13=============9==========================\n",
            "\n"
          ]
        },
        {
          "output_type": "stream",
          "name": "stderr",
          "text": [
            "<ipython-input-53-1dd8ef2bc507>:16: DataConversionWarning: A column-vector y was passed when a 1d array was expected. Please change the shape of y to (n_samples,), for example using ravel().\n",
            "  classifier.fit(X_train, y_train)\n",
            "<ipython-input-53-1dd8ef2bc507>:16: DataConversionWarning: A column-vector y was passed when a 1d array was expected. Please change the shape of y to (n_samples,), for example using ravel().\n",
            "  classifier.fit(X_train, y_train)\n",
            "<ipython-input-53-1dd8ef2bc507>:16: DataConversionWarning: A column-vector y was passed when a 1d array was expected. Please change the shape of y to (n_samples,), for example using ravel().\n",
            "  classifier.fit(X_train, y_train)\n",
            "<ipython-input-53-1dd8ef2bc507>:16: DataConversionWarning: A column-vector y was passed when a 1d array was expected. Please change the shape of y to (n_samples,), for example using ravel().\n",
            "  classifier.fit(X_train, y_train)\n"
          ]
        },
        {
          "output_type": "stream",
          "name": "stdout",
          "text": [
            "[[76 13]\n",
            " [17 94]]\n",
            "Train score : 0.99 CV score 0.85\n",
            "\n",
            "===========================13=============10==========================\n",
            "\n",
            "[[74 15]\n",
            " [17 94]]\n",
            "Train score : 0.98625 CV score 0.84\n",
            "\n",
            "===========================13=============11==========================\n",
            "\n",
            "[[72 17]\n",
            " [18 93]]\n",
            "Train score : 0.985 CV score 0.825\n",
            "\n",
            "===========================13=============12==========================\n",
            "\n",
            "[[74 15]\n",
            " [17 94]]\n",
            "Train score : 0.98125 CV score 0.84\n",
            "\n",
            "===========================13=============13==========================\n",
            "\n"
          ]
        },
        {
          "output_type": "stream",
          "name": "stderr",
          "text": [
            "<ipython-input-53-1dd8ef2bc507>:16: DataConversionWarning: A column-vector y was passed when a 1d array was expected. Please change the shape of y to (n_samples,), for example using ravel().\n",
            "  classifier.fit(X_train, y_train)\n",
            "<ipython-input-53-1dd8ef2bc507>:16: DataConversionWarning: A column-vector y was passed when a 1d array was expected. Please change the shape of y to (n_samples,), for example using ravel().\n",
            "  classifier.fit(X_train, y_train)\n",
            "<ipython-input-53-1dd8ef2bc507>:16: DataConversionWarning: A column-vector y was passed when a 1d array was expected. Please change the shape of y to (n_samples,), for example using ravel().\n",
            "  classifier.fit(X_train, y_train)\n",
            "<ipython-input-53-1dd8ef2bc507>:16: DataConversionWarning: A column-vector y was passed when a 1d array was expected. Please change the shape of y to (n_samples,), for example using ravel().\n",
            "  classifier.fit(X_train, y_train)\n"
          ]
        },
        {
          "output_type": "stream",
          "name": "stdout",
          "text": [
            "[[72 17]\n",
            " [16 95]]\n",
            "Train score : 0.9775 CV score 0.835\n",
            "\n",
            "===========================13=============14==========================\n",
            "\n",
            "[[73 16]\n",
            " [17 94]]\n",
            "Train score : 0.97625 CV score 0.835\n",
            "\n",
            "===========================14=============2==========================\n",
            "\n",
            "[[78 11]\n",
            " [23 88]]\n",
            "Train score : 0.9975 CV score 0.83\n",
            "\n",
            "===========================14=============3==========================\n",
            "\n",
            "[[80  9]\n",
            " [18 93]]\n",
            "Train score : 0.9925 CV score 0.865\n",
            "\n",
            "===========================14=============4==========================\n",
            "\n"
          ]
        },
        {
          "output_type": "stream",
          "name": "stderr",
          "text": [
            "<ipython-input-53-1dd8ef2bc507>:16: DataConversionWarning: A column-vector y was passed when a 1d array was expected. Please change the shape of y to (n_samples,), for example using ravel().\n",
            "  classifier.fit(X_train, y_train)\n",
            "<ipython-input-53-1dd8ef2bc507>:16: DataConversionWarning: A column-vector y was passed when a 1d array was expected. Please change the shape of y to (n_samples,), for example using ravel().\n",
            "  classifier.fit(X_train, y_train)\n",
            "<ipython-input-53-1dd8ef2bc507>:16: DataConversionWarning: A column-vector y was passed when a 1d array was expected. Please change the shape of y to (n_samples,), for example using ravel().\n",
            "  classifier.fit(X_train, y_train)\n",
            "<ipython-input-53-1dd8ef2bc507>:16: DataConversionWarning: A column-vector y was passed when a 1d array was expected. Please change the shape of y to (n_samples,), for example using ravel().\n",
            "  classifier.fit(X_train, y_train)\n"
          ]
        },
        {
          "output_type": "stream",
          "name": "stdout",
          "text": [
            "[[75 14]\n",
            " [19 92]]\n",
            "Train score : 0.9925 CV score 0.835\n",
            "\n",
            "===========================14=============5==========================\n",
            "\n",
            "[[75 14]\n",
            " [17 94]]\n",
            "Train score : 0.99125 CV score 0.845\n",
            "\n",
            "===========================14=============6==========================\n",
            "\n",
            "[[71 18]\n",
            " [22 89]]\n",
            "Train score : 0.99375 CV score 0.8\n",
            "\n",
            "===========================14=============7==========================\n",
            "\n",
            "[[74 15]\n",
            " [22 89]]\n",
            "Train score : 0.99125 CV score 0.815\n",
            "\n",
            "===========================14=============8==========================\n",
            "\n"
          ]
        },
        {
          "output_type": "stream",
          "name": "stderr",
          "text": [
            "<ipython-input-53-1dd8ef2bc507>:16: DataConversionWarning: A column-vector y was passed when a 1d array was expected. Please change the shape of y to (n_samples,), for example using ravel().\n",
            "  classifier.fit(X_train, y_train)\n",
            "<ipython-input-53-1dd8ef2bc507>:16: DataConversionWarning: A column-vector y was passed when a 1d array was expected. Please change the shape of y to (n_samples,), for example using ravel().\n",
            "  classifier.fit(X_train, y_train)\n",
            "<ipython-input-53-1dd8ef2bc507>:16: DataConversionWarning: A column-vector y was passed when a 1d array was expected. Please change the shape of y to (n_samples,), for example using ravel().\n",
            "  classifier.fit(X_train, y_train)\n",
            "<ipython-input-53-1dd8ef2bc507>:16: DataConversionWarning: A column-vector y was passed when a 1d array was expected. Please change the shape of y to (n_samples,), for example using ravel().\n",
            "  classifier.fit(X_train, y_train)\n"
          ]
        },
        {
          "output_type": "stream",
          "name": "stdout",
          "text": [
            "[[74 15]\n",
            " [18 93]]\n",
            "Train score : 0.995 CV score 0.835\n",
            "\n",
            "===========================14=============9==========================\n",
            "\n",
            "[[76 13]\n",
            " [16 95]]\n",
            "Train score : 0.98875 CV score 0.855\n",
            "\n",
            "===========================14=============10==========================\n",
            "\n",
            "[[75 14]\n",
            " [15 96]]\n",
            "Train score : 0.985 CV score 0.855\n",
            "\n",
            "===========================14=============11==========================\n",
            "\n",
            "[[74 15]\n",
            " [17 94]]\n",
            "Train score : 0.985 CV score 0.84\n",
            "\n",
            "===========================14=============12==========================\n",
            "\n"
          ]
        },
        {
          "output_type": "stream",
          "name": "stderr",
          "text": [
            "<ipython-input-53-1dd8ef2bc507>:16: DataConversionWarning: A column-vector y was passed when a 1d array was expected. Please change the shape of y to (n_samples,), for example using ravel().\n",
            "  classifier.fit(X_train, y_train)\n",
            "<ipython-input-53-1dd8ef2bc507>:16: DataConversionWarning: A column-vector y was passed when a 1d array was expected. Please change the shape of y to (n_samples,), for example using ravel().\n",
            "  classifier.fit(X_train, y_train)\n",
            "<ipython-input-53-1dd8ef2bc507>:16: DataConversionWarning: A column-vector y was passed when a 1d array was expected. Please change the shape of y to (n_samples,), for example using ravel().\n",
            "  classifier.fit(X_train, y_train)\n",
            "<ipython-input-53-1dd8ef2bc507>:16: DataConversionWarning: A column-vector y was passed when a 1d array was expected. Please change the shape of y to (n_samples,), for example using ravel().\n",
            "  classifier.fit(X_train, y_train)\n"
          ]
        },
        {
          "output_type": "stream",
          "name": "stdout",
          "text": [
            "[[75 14]\n",
            " [16 95]]\n",
            "Train score : 0.9825 CV score 0.85\n",
            "\n",
            "===========================14=============13==========================\n",
            "\n",
            "[[71 18]\n",
            " [14 97]]\n",
            "Train score : 0.975 CV score 0.84\n",
            "\n",
            "===========================14=============14==========================\n",
            "\n",
            "[[73 16]\n",
            " [17 94]]\n",
            "Train score : 0.97625 CV score 0.835\n",
            "\n",
            "===========================15=============2==========================\n",
            "\n",
            "[[77 12]\n",
            " [25 86]]\n",
            "Train score : 0.99625 CV score 0.815\n",
            "\n",
            "===========================15=============3==========================\n",
            "\n"
          ]
        },
        {
          "output_type": "stream",
          "name": "stderr",
          "text": [
            "<ipython-input-53-1dd8ef2bc507>:16: DataConversionWarning: A column-vector y was passed when a 1d array was expected. Please change the shape of y to (n_samples,), for example using ravel().\n",
            "  classifier.fit(X_train, y_train)\n",
            "<ipython-input-53-1dd8ef2bc507>:16: DataConversionWarning: A column-vector y was passed when a 1d array was expected. Please change the shape of y to (n_samples,), for example using ravel().\n",
            "  classifier.fit(X_train, y_train)\n",
            "<ipython-input-53-1dd8ef2bc507>:16: DataConversionWarning: A column-vector y was passed when a 1d array was expected. Please change the shape of y to (n_samples,), for example using ravel().\n",
            "  classifier.fit(X_train, y_train)\n",
            "<ipython-input-53-1dd8ef2bc507>:16: DataConversionWarning: A column-vector y was passed when a 1d array was expected. Please change the shape of y to (n_samples,), for example using ravel().\n",
            "  classifier.fit(X_train, y_train)\n"
          ]
        },
        {
          "output_type": "stream",
          "name": "stdout",
          "text": [
            "[[78 11]\n",
            " [17 94]]\n",
            "Train score : 0.99375 CV score 0.86\n",
            "\n",
            "===========================15=============4==========================\n",
            "\n",
            "[[76 13]\n",
            " [19 92]]\n",
            "Train score : 0.9925 CV score 0.84\n",
            "\n",
            "===========================15=============5==========================\n",
            "\n",
            "[[75 14]\n",
            " [17 94]]\n",
            "Train score : 0.99125 CV score 0.845\n",
            "\n",
            "===========================15=============6==========================\n",
            "\n",
            "[[73 16]\n",
            " [22 89]]\n",
            "Train score : 0.995 CV score 0.81\n",
            "\n",
            "===========================15=============7==========================\n",
            "\n"
          ]
        },
        {
          "output_type": "stream",
          "name": "stderr",
          "text": [
            "<ipython-input-53-1dd8ef2bc507>:16: DataConversionWarning: A column-vector y was passed when a 1d array was expected. Please change the shape of y to (n_samples,), for example using ravel().\n",
            "  classifier.fit(X_train, y_train)\n",
            "<ipython-input-53-1dd8ef2bc507>:16: DataConversionWarning: A column-vector y was passed when a 1d array was expected. Please change the shape of y to (n_samples,), for example using ravel().\n",
            "  classifier.fit(X_train, y_train)\n",
            "<ipython-input-53-1dd8ef2bc507>:16: DataConversionWarning: A column-vector y was passed when a 1d array was expected. Please change the shape of y to (n_samples,), for example using ravel().\n",
            "  classifier.fit(X_train, y_train)\n",
            "<ipython-input-53-1dd8ef2bc507>:16: DataConversionWarning: A column-vector y was passed when a 1d array was expected. Please change the shape of y to (n_samples,), for example using ravel().\n",
            "  classifier.fit(X_train, y_train)\n"
          ]
        },
        {
          "output_type": "stream",
          "name": "stdout",
          "text": [
            "[[75 14]\n",
            " [22 89]]\n",
            "Train score : 0.99 CV score 0.82\n",
            "\n",
            "===========================15=============8==========================\n",
            "\n",
            "[[75 14]\n",
            " [18 93]]\n",
            "Train score : 0.995 CV score 0.84\n",
            "\n",
            "===========================15=============9==========================\n",
            "\n",
            "[[76 13]\n",
            " [16 95]]\n",
            "Train score : 0.98875 CV score 0.855\n",
            "\n",
            "===========================15=============10==========================\n",
            "\n",
            "[[75 14]\n",
            " [15 96]]\n",
            "Train score : 0.985 CV score 0.855\n",
            "\n",
            "===========================15=============11==========================\n",
            "\n"
          ]
        },
        {
          "output_type": "stream",
          "name": "stderr",
          "text": [
            "<ipython-input-53-1dd8ef2bc507>:16: DataConversionWarning: A column-vector y was passed when a 1d array was expected. Please change the shape of y to (n_samples,), for example using ravel().\n",
            "  classifier.fit(X_train, y_train)\n",
            "<ipython-input-53-1dd8ef2bc507>:16: DataConversionWarning: A column-vector y was passed when a 1d array was expected. Please change the shape of y to (n_samples,), for example using ravel().\n",
            "  classifier.fit(X_train, y_train)\n",
            "<ipython-input-53-1dd8ef2bc507>:16: DataConversionWarning: A column-vector y was passed when a 1d array was expected. Please change the shape of y to (n_samples,), for example using ravel().\n",
            "  classifier.fit(X_train, y_train)\n",
            "<ipython-input-53-1dd8ef2bc507>:16: DataConversionWarning: A column-vector y was passed when a 1d array was expected. Please change the shape of y to (n_samples,), for example using ravel().\n",
            "  classifier.fit(X_train, y_train)\n"
          ]
        },
        {
          "output_type": "stream",
          "name": "stdout",
          "text": [
            "[[74 15]\n",
            " [17 94]]\n",
            "Train score : 0.985 CV score 0.84\n",
            "\n",
            "===========================15=============12==========================\n",
            "\n",
            "[[74 15]\n",
            " [18 93]]\n",
            "Train score : 0.9825 CV score 0.835\n",
            "\n",
            "===========================15=============13==========================\n",
            "\n",
            "[[71 18]\n",
            " [14 97]]\n",
            "Train score : 0.97625 CV score 0.84\n",
            "\n",
            "===========================15=============14==========================\n",
            "\n",
            "[[73 16]\n",
            " [17 94]]\n",
            "Train score : 0.97625 CV score 0.835\n",
            "\n",
            "===========================16=============2==========================\n",
            "\n"
          ]
        },
        {
          "output_type": "stream",
          "name": "stderr",
          "text": [
            "<ipython-input-53-1dd8ef2bc507>:16: DataConversionWarning: A column-vector y was passed when a 1d array was expected. Please change the shape of y to (n_samples,), for example using ravel().\n",
            "  classifier.fit(X_train, y_train)\n",
            "<ipython-input-53-1dd8ef2bc507>:16: DataConversionWarning: A column-vector y was passed when a 1d array was expected. Please change the shape of y to (n_samples,), for example using ravel().\n",
            "  classifier.fit(X_train, y_train)\n",
            "<ipython-input-53-1dd8ef2bc507>:16: DataConversionWarning: A column-vector y was passed when a 1d array was expected. Please change the shape of y to (n_samples,), for example using ravel().\n",
            "  classifier.fit(X_train, y_train)\n",
            "<ipython-input-53-1dd8ef2bc507>:16: DataConversionWarning: A column-vector y was passed when a 1d array was expected. Please change the shape of y to (n_samples,), for example using ravel().\n",
            "  classifier.fit(X_train, y_train)\n"
          ]
        },
        {
          "output_type": "stream",
          "name": "stdout",
          "text": [
            "[[77 12]\n",
            " [25 86]]\n",
            "Train score : 0.99625 CV score 0.815\n",
            "\n",
            "===========================16=============3==========================\n",
            "\n",
            "[[78 11]\n",
            " [17 94]]\n",
            "Train score : 0.99375 CV score 0.86\n",
            "\n",
            "===========================16=============4==========================\n",
            "\n",
            "[[76 13]\n",
            " [19 92]]\n",
            "Train score : 0.9925 CV score 0.84\n",
            "\n",
            "===========================16=============5==========================\n",
            "\n",
            "[[75 14]\n",
            " [17 94]]\n",
            "Train score : 0.99125 CV score 0.845\n",
            "\n",
            "===========================16=============6==========================\n",
            "\n"
          ]
        },
        {
          "output_type": "stream",
          "name": "stderr",
          "text": [
            "<ipython-input-53-1dd8ef2bc507>:16: DataConversionWarning: A column-vector y was passed when a 1d array was expected. Please change the shape of y to (n_samples,), for example using ravel().\n",
            "  classifier.fit(X_train, y_train)\n",
            "<ipython-input-53-1dd8ef2bc507>:16: DataConversionWarning: A column-vector y was passed when a 1d array was expected. Please change the shape of y to (n_samples,), for example using ravel().\n",
            "  classifier.fit(X_train, y_train)\n",
            "<ipython-input-53-1dd8ef2bc507>:16: DataConversionWarning: A column-vector y was passed when a 1d array was expected. Please change the shape of y to (n_samples,), for example using ravel().\n",
            "  classifier.fit(X_train, y_train)\n",
            "<ipython-input-53-1dd8ef2bc507>:16: DataConversionWarning: A column-vector y was passed when a 1d array was expected. Please change the shape of y to (n_samples,), for example using ravel().\n",
            "  classifier.fit(X_train, y_train)\n"
          ]
        },
        {
          "output_type": "stream",
          "name": "stdout",
          "text": [
            "[[73 16]\n",
            " [22 89]]\n",
            "Train score : 0.995 CV score 0.81\n",
            "\n",
            "===========================16=============7==========================\n",
            "\n",
            "[[75 14]\n",
            " [22 89]]\n",
            "Train score : 0.99 CV score 0.82\n",
            "\n",
            "===========================16=============8==========================\n",
            "\n",
            "[[75 14]\n",
            " [18 93]]\n",
            "Train score : 0.995 CV score 0.84\n",
            "\n",
            "===========================16=============9==========================\n",
            "\n",
            "[[76 13]\n",
            " [16 95]]\n",
            "Train score : 0.98875 CV score 0.855\n",
            "\n",
            "===========================16=============10==========================\n",
            "\n"
          ]
        },
        {
          "output_type": "stream",
          "name": "stderr",
          "text": [
            "<ipython-input-53-1dd8ef2bc507>:16: DataConversionWarning: A column-vector y was passed when a 1d array was expected. Please change the shape of y to (n_samples,), for example using ravel().\n",
            "  classifier.fit(X_train, y_train)\n",
            "<ipython-input-53-1dd8ef2bc507>:16: DataConversionWarning: A column-vector y was passed when a 1d array was expected. Please change the shape of y to (n_samples,), for example using ravel().\n",
            "  classifier.fit(X_train, y_train)\n",
            "<ipython-input-53-1dd8ef2bc507>:16: DataConversionWarning: A column-vector y was passed when a 1d array was expected. Please change the shape of y to (n_samples,), for example using ravel().\n",
            "  classifier.fit(X_train, y_train)\n",
            "<ipython-input-53-1dd8ef2bc507>:16: DataConversionWarning: A column-vector y was passed when a 1d array was expected. Please change the shape of y to (n_samples,), for example using ravel().\n",
            "  classifier.fit(X_train, y_train)\n"
          ]
        },
        {
          "output_type": "stream",
          "name": "stdout",
          "text": [
            "[[75 14]\n",
            " [15 96]]\n",
            "Train score : 0.985 CV score 0.855\n",
            "\n",
            "===========================16=============11==========================\n",
            "\n",
            "[[74 15]\n",
            " [17 94]]\n",
            "Train score : 0.985 CV score 0.84\n",
            "\n",
            "===========================16=============12==========================\n",
            "\n",
            "[[74 15]\n",
            " [17 94]]\n",
            "Train score : 0.9825 CV score 0.84\n",
            "\n",
            "===========================16=============13==========================\n",
            "\n",
            "[[71 18]\n",
            " [15 96]]\n",
            "Train score : 0.9775 CV score 0.835\n",
            "\n",
            "===========================16=============14==========================\n",
            "\n"
          ]
        },
        {
          "output_type": "stream",
          "name": "stderr",
          "text": [
            "<ipython-input-53-1dd8ef2bc507>:16: DataConversionWarning: A column-vector y was passed when a 1d array was expected. Please change the shape of y to (n_samples,), for example using ravel().\n",
            "  classifier.fit(X_train, y_train)\n",
            "<ipython-input-53-1dd8ef2bc507>:16: DataConversionWarning: A column-vector y was passed when a 1d array was expected. Please change the shape of y to (n_samples,), for example using ravel().\n",
            "  classifier.fit(X_train, y_train)\n",
            "<ipython-input-53-1dd8ef2bc507>:16: DataConversionWarning: A column-vector y was passed when a 1d array was expected. Please change the shape of y to (n_samples,), for example using ravel().\n",
            "  classifier.fit(X_train, y_train)\n",
            "<ipython-input-53-1dd8ef2bc507>:16: DataConversionWarning: A column-vector y was passed when a 1d array was expected. Please change the shape of y to (n_samples,), for example using ravel().\n",
            "  classifier.fit(X_train, y_train)\n"
          ]
        },
        {
          "output_type": "stream",
          "name": "stdout",
          "text": [
            "[[73 16]\n",
            " [17 94]]\n",
            "Train score : 0.97625 CV score 0.835\n",
            "\n",
            "===========================17=============2==========================\n",
            "\n",
            "[[77 12]\n",
            " [25 86]]\n",
            "Train score : 0.99625 CV score 0.815\n",
            "\n",
            "===========================17=============3==========================\n",
            "\n",
            "[[78 11]\n",
            " [17 94]]\n",
            "Train score : 0.99375 CV score 0.86\n",
            "\n",
            "===========================17=============4==========================\n",
            "\n",
            "[[76 13]\n",
            " [19 92]]\n",
            "Train score : 0.9925 CV score 0.84\n",
            "\n",
            "===========================17=============5==========================\n",
            "\n"
          ]
        },
        {
          "output_type": "stream",
          "name": "stderr",
          "text": [
            "<ipython-input-53-1dd8ef2bc507>:16: DataConversionWarning: A column-vector y was passed when a 1d array was expected. Please change the shape of y to (n_samples,), for example using ravel().\n",
            "  classifier.fit(X_train, y_train)\n",
            "<ipython-input-53-1dd8ef2bc507>:16: DataConversionWarning: A column-vector y was passed when a 1d array was expected. Please change the shape of y to (n_samples,), for example using ravel().\n",
            "  classifier.fit(X_train, y_train)\n",
            "<ipython-input-53-1dd8ef2bc507>:16: DataConversionWarning: A column-vector y was passed when a 1d array was expected. Please change the shape of y to (n_samples,), for example using ravel().\n",
            "  classifier.fit(X_train, y_train)\n",
            "<ipython-input-53-1dd8ef2bc507>:16: DataConversionWarning: A column-vector y was passed when a 1d array was expected. Please change the shape of y to (n_samples,), for example using ravel().\n",
            "  classifier.fit(X_train, y_train)\n"
          ]
        },
        {
          "output_type": "stream",
          "name": "stdout",
          "text": [
            "[[75 14]\n",
            " [17 94]]\n",
            "Train score : 0.99125 CV score 0.845\n",
            "\n",
            "===========================17=============6==========================\n",
            "\n",
            "[[73 16]\n",
            " [22 89]]\n",
            "Train score : 0.995 CV score 0.81\n",
            "\n",
            "===========================17=============7==========================\n",
            "\n",
            "[[75 14]\n",
            " [22 89]]\n",
            "Train score : 0.99 CV score 0.82\n",
            "\n",
            "===========================17=============8==========================\n",
            "\n",
            "[[75 14]\n",
            " [18 93]]\n",
            "Train score : 0.995 CV score 0.84\n",
            "\n",
            "===========================17=============9==========================\n",
            "\n"
          ]
        },
        {
          "output_type": "stream",
          "name": "stderr",
          "text": [
            "<ipython-input-53-1dd8ef2bc507>:16: DataConversionWarning: A column-vector y was passed when a 1d array was expected. Please change the shape of y to (n_samples,), for example using ravel().\n",
            "  classifier.fit(X_train, y_train)\n",
            "<ipython-input-53-1dd8ef2bc507>:16: DataConversionWarning: A column-vector y was passed when a 1d array was expected. Please change the shape of y to (n_samples,), for example using ravel().\n",
            "  classifier.fit(X_train, y_train)\n",
            "<ipython-input-53-1dd8ef2bc507>:16: DataConversionWarning: A column-vector y was passed when a 1d array was expected. Please change the shape of y to (n_samples,), for example using ravel().\n",
            "  classifier.fit(X_train, y_train)\n",
            "<ipython-input-53-1dd8ef2bc507>:16: DataConversionWarning: A column-vector y was passed when a 1d array was expected. Please change the shape of y to (n_samples,), for example using ravel().\n",
            "  classifier.fit(X_train, y_train)\n"
          ]
        },
        {
          "output_type": "stream",
          "name": "stdout",
          "text": [
            "[[76 13]\n",
            " [16 95]]\n",
            "Train score : 0.98875 CV score 0.855\n",
            "\n",
            "===========================17=============10==========================\n",
            "\n",
            "[[75 14]\n",
            " [15 96]]\n",
            "Train score : 0.985 CV score 0.855\n",
            "\n",
            "===========================17=============11==========================\n",
            "\n",
            "[[74 15]\n",
            " [17 94]]\n",
            "Train score : 0.985 CV score 0.84\n",
            "\n",
            "===========================17=============12==========================\n",
            "\n",
            "[[74 15]\n",
            " [17 94]]\n",
            "Train score : 0.98375 CV score 0.84\n",
            "\n",
            "===========================17=============13==========================\n",
            "\n"
          ]
        },
        {
          "output_type": "stream",
          "name": "stderr",
          "text": [
            "<ipython-input-53-1dd8ef2bc507>:16: DataConversionWarning: A column-vector y was passed when a 1d array was expected. Please change the shape of y to (n_samples,), for example using ravel().\n",
            "  classifier.fit(X_train, y_train)\n",
            "<ipython-input-53-1dd8ef2bc507>:16: DataConversionWarning: A column-vector y was passed when a 1d array was expected. Please change the shape of y to (n_samples,), for example using ravel().\n",
            "  classifier.fit(X_train, y_train)\n",
            "<ipython-input-53-1dd8ef2bc507>:16: DataConversionWarning: A column-vector y was passed when a 1d array was expected. Please change the shape of y to (n_samples,), for example using ravel().\n",
            "  classifier.fit(X_train, y_train)\n",
            "<ipython-input-53-1dd8ef2bc507>:16: DataConversionWarning: A column-vector y was passed when a 1d array was expected. Please change the shape of y to (n_samples,), for example using ravel().\n",
            "  classifier.fit(X_train, y_train)\n"
          ]
        },
        {
          "output_type": "stream",
          "name": "stdout",
          "text": [
            "[[71 18]\n",
            " [15 96]]\n",
            "Train score : 0.9775 CV score 0.835\n",
            "\n",
            "===========================17=============14==========================\n",
            "\n",
            "[[73 16]\n",
            " [17 94]]\n",
            "Train score : 0.97625 CV score 0.835\n",
            "\n",
            "===========================18=============2==========================\n",
            "\n",
            "[[77 12]\n",
            " [25 86]]\n",
            "Train score : 0.99625 CV score 0.815\n",
            "\n",
            "===========================18=============3==========================\n",
            "\n",
            "[[78 11]\n",
            " [17 94]]\n",
            "Train score : 0.99375 CV score 0.86\n",
            "\n",
            "===========================18=============4==========================\n",
            "\n"
          ]
        },
        {
          "output_type": "stream",
          "name": "stderr",
          "text": [
            "<ipython-input-53-1dd8ef2bc507>:16: DataConversionWarning: A column-vector y was passed when a 1d array was expected. Please change the shape of y to (n_samples,), for example using ravel().\n",
            "  classifier.fit(X_train, y_train)\n",
            "<ipython-input-53-1dd8ef2bc507>:16: DataConversionWarning: A column-vector y was passed when a 1d array was expected. Please change the shape of y to (n_samples,), for example using ravel().\n",
            "  classifier.fit(X_train, y_train)\n",
            "<ipython-input-53-1dd8ef2bc507>:16: DataConversionWarning: A column-vector y was passed when a 1d array was expected. Please change the shape of y to (n_samples,), for example using ravel().\n",
            "  classifier.fit(X_train, y_train)\n",
            "<ipython-input-53-1dd8ef2bc507>:16: DataConversionWarning: A column-vector y was passed when a 1d array was expected. Please change the shape of y to (n_samples,), for example using ravel().\n",
            "  classifier.fit(X_train, y_train)\n"
          ]
        },
        {
          "output_type": "stream",
          "name": "stdout",
          "text": [
            "[[76 13]\n",
            " [19 92]]\n",
            "Train score : 0.9925 CV score 0.84\n",
            "\n",
            "===========================18=============5==========================\n",
            "\n",
            "[[75 14]\n",
            " [17 94]]\n",
            "Train score : 0.99125 CV score 0.845\n",
            "\n",
            "===========================18=============6==========================\n",
            "\n",
            "[[73 16]\n",
            " [22 89]]\n",
            "Train score : 0.995 CV score 0.81\n",
            "\n",
            "===========================18=============7==========================\n",
            "\n",
            "[[75 14]\n",
            " [22 89]]\n",
            "Train score : 0.99 CV score 0.82\n",
            "\n",
            "===========================18=============8==========================\n",
            "\n"
          ]
        },
        {
          "output_type": "stream",
          "name": "stderr",
          "text": [
            "<ipython-input-53-1dd8ef2bc507>:16: DataConversionWarning: A column-vector y was passed when a 1d array was expected. Please change the shape of y to (n_samples,), for example using ravel().\n",
            "  classifier.fit(X_train, y_train)\n",
            "<ipython-input-53-1dd8ef2bc507>:16: DataConversionWarning: A column-vector y was passed when a 1d array was expected. Please change the shape of y to (n_samples,), for example using ravel().\n",
            "  classifier.fit(X_train, y_train)\n",
            "<ipython-input-53-1dd8ef2bc507>:16: DataConversionWarning: A column-vector y was passed when a 1d array was expected. Please change the shape of y to (n_samples,), for example using ravel().\n",
            "  classifier.fit(X_train, y_train)\n",
            "<ipython-input-53-1dd8ef2bc507>:16: DataConversionWarning: A column-vector y was passed when a 1d array was expected. Please change the shape of y to (n_samples,), for example using ravel().\n",
            "  classifier.fit(X_train, y_train)\n"
          ]
        },
        {
          "output_type": "stream",
          "name": "stdout",
          "text": [
            "[[75 14]\n",
            " [18 93]]\n",
            "Train score : 0.995 CV score 0.84\n",
            "\n",
            "===========================18=============9==========================\n",
            "\n",
            "[[76 13]\n",
            " [16 95]]\n",
            "Train score : 0.98875 CV score 0.855\n",
            "\n",
            "===========================18=============10==========================\n",
            "\n",
            "[[75 14]\n",
            " [15 96]]\n",
            "Train score : 0.985 CV score 0.855\n",
            "\n",
            "===========================18=============11==========================\n",
            "\n",
            "[[74 15]\n",
            " [17 94]]\n",
            "Train score : 0.985 CV score 0.84\n",
            "\n",
            "===========================18=============12==========================\n",
            "\n"
          ]
        },
        {
          "output_type": "stream",
          "name": "stderr",
          "text": [
            "<ipython-input-53-1dd8ef2bc507>:16: DataConversionWarning: A column-vector y was passed when a 1d array was expected. Please change the shape of y to (n_samples,), for example using ravel().\n",
            "  classifier.fit(X_train, y_train)\n",
            "<ipython-input-53-1dd8ef2bc507>:16: DataConversionWarning: A column-vector y was passed when a 1d array was expected. Please change the shape of y to (n_samples,), for example using ravel().\n",
            "  classifier.fit(X_train, y_train)\n",
            "<ipython-input-53-1dd8ef2bc507>:16: DataConversionWarning: A column-vector y was passed when a 1d array was expected. Please change the shape of y to (n_samples,), for example using ravel().\n",
            "  classifier.fit(X_train, y_train)\n",
            "<ipython-input-53-1dd8ef2bc507>:16: DataConversionWarning: A column-vector y was passed when a 1d array was expected. Please change the shape of y to (n_samples,), for example using ravel().\n",
            "  classifier.fit(X_train, y_train)\n"
          ]
        },
        {
          "output_type": "stream",
          "name": "stdout",
          "text": [
            "[[74 15]\n",
            " [17 94]]\n",
            "Train score : 0.98375 CV score 0.84\n",
            "\n",
            "===========================18=============13==========================\n",
            "\n",
            "[[71 18]\n",
            " [15 96]]\n",
            "Train score : 0.9775 CV score 0.835\n",
            "\n",
            "===========================18=============14==========================\n",
            "\n",
            "[[73 16]\n",
            " [17 94]]\n",
            "Train score : 0.97625 CV score 0.835\n",
            "\n",
            "===========================19=============2==========================\n",
            "\n",
            "[[77 12]\n",
            " [25 86]]\n",
            "Train score : 0.99625 CV score 0.815\n",
            "\n",
            "===========================19=============3==========================\n",
            "\n"
          ]
        },
        {
          "output_type": "stream",
          "name": "stderr",
          "text": [
            "<ipython-input-53-1dd8ef2bc507>:16: DataConversionWarning: A column-vector y was passed when a 1d array was expected. Please change the shape of y to (n_samples,), for example using ravel().\n",
            "  classifier.fit(X_train, y_train)\n",
            "<ipython-input-53-1dd8ef2bc507>:16: DataConversionWarning: A column-vector y was passed when a 1d array was expected. Please change the shape of y to (n_samples,), for example using ravel().\n",
            "  classifier.fit(X_train, y_train)\n",
            "<ipython-input-53-1dd8ef2bc507>:16: DataConversionWarning: A column-vector y was passed when a 1d array was expected. Please change the shape of y to (n_samples,), for example using ravel().\n",
            "  classifier.fit(X_train, y_train)\n",
            "<ipython-input-53-1dd8ef2bc507>:16: DataConversionWarning: A column-vector y was passed when a 1d array was expected. Please change the shape of y to (n_samples,), for example using ravel().\n",
            "  classifier.fit(X_train, y_train)\n"
          ]
        },
        {
          "output_type": "stream",
          "name": "stdout",
          "text": [
            "[[78 11]\n",
            " [17 94]]\n",
            "Train score : 0.99375 CV score 0.86\n",
            "\n",
            "===========================19=============4==========================\n",
            "\n",
            "[[76 13]\n",
            " [19 92]]\n",
            "Train score : 0.9925 CV score 0.84\n",
            "\n",
            "===========================19=============5==========================\n",
            "\n",
            "[[75 14]\n",
            " [17 94]]\n",
            "Train score : 0.99125 CV score 0.845\n",
            "\n",
            "===========================19=============6==========================\n",
            "\n",
            "[[73 16]\n",
            " [22 89]]\n",
            "Train score : 0.995 CV score 0.81\n",
            "\n",
            "===========================19=============7==========================\n",
            "\n"
          ]
        },
        {
          "output_type": "stream",
          "name": "stderr",
          "text": [
            "<ipython-input-53-1dd8ef2bc507>:16: DataConversionWarning: A column-vector y was passed when a 1d array was expected. Please change the shape of y to (n_samples,), for example using ravel().\n",
            "  classifier.fit(X_train, y_train)\n",
            "<ipython-input-53-1dd8ef2bc507>:16: DataConversionWarning: A column-vector y was passed when a 1d array was expected. Please change the shape of y to (n_samples,), for example using ravel().\n",
            "  classifier.fit(X_train, y_train)\n",
            "<ipython-input-53-1dd8ef2bc507>:16: DataConversionWarning: A column-vector y was passed when a 1d array was expected. Please change the shape of y to (n_samples,), for example using ravel().\n",
            "  classifier.fit(X_train, y_train)\n",
            "<ipython-input-53-1dd8ef2bc507>:16: DataConversionWarning: A column-vector y was passed when a 1d array was expected. Please change the shape of y to (n_samples,), for example using ravel().\n",
            "  classifier.fit(X_train, y_train)\n"
          ]
        },
        {
          "output_type": "stream",
          "name": "stdout",
          "text": [
            "[[75 14]\n",
            " [22 89]]\n",
            "Train score : 0.99 CV score 0.82\n",
            "\n",
            "===========================19=============8==========================\n",
            "\n",
            "[[75 14]\n",
            " [18 93]]\n",
            "Train score : 0.995 CV score 0.84\n",
            "\n",
            "===========================19=============9==========================\n",
            "\n",
            "[[76 13]\n",
            " [16 95]]\n",
            "Train score : 0.98875 CV score 0.855\n",
            "\n",
            "===========================19=============10==========================\n",
            "\n",
            "[[75 14]\n",
            " [15 96]]\n",
            "Train score : 0.985 CV score 0.855\n",
            "\n",
            "===========================19=============11==========================\n",
            "\n"
          ]
        },
        {
          "output_type": "stream",
          "name": "stderr",
          "text": [
            "<ipython-input-53-1dd8ef2bc507>:16: DataConversionWarning: A column-vector y was passed when a 1d array was expected. Please change the shape of y to (n_samples,), for example using ravel().\n",
            "  classifier.fit(X_train, y_train)\n",
            "<ipython-input-53-1dd8ef2bc507>:16: DataConversionWarning: A column-vector y was passed when a 1d array was expected. Please change the shape of y to (n_samples,), for example using ravel().\n",
            "  classifier.fit(X_train, y_train)\n",
            "<ipython-input-53-1dd8ef2bc507>:16: DataConversionWarning: A column-vector y was passed when a 1d array was expected. Please change the shape of y to (n_samples,), for example using ravel().\n",
            "  classifier.fit(X_train, y_train)\n",
            "<ipython-input-53-1dd8ef2bc507>:16: DataConversionWarning: A column-vector y was passed when a 1d array was expected. Please change the shape of y to (n_samples,), for example using ravel().\n",
            "  classifier.fit(X_train, y_train)\n"
          ]
        },
        {
          "output_type": "stream",
          "name": "stdout",
          "text": [
            "[[74 15]\n",
            " [17 94]]\n",
            "Train score : 0.985 CV score 0.84\n",
            "\n",
            "===========================19=============12==========================\n",
            "\n",
            "[[74 15]\n",
            " [17 94]]\n",
            "Train score : 0.98375 CV score 0.84\n",
            "\n",
            "===========================19=============13==========================\n",
            "\n",
            "[[71 18]\n",
            " [15 96]]\n",
            "Train score : 0.9775 CV score 0.835\n",
            "\n",
            "===========================19=============14==========================\n",
            "\n",
            "[[73 16]\n",
            " [17 94]]\n",
            "Train score : 0.97625 CV score 0.835\n"
          ]
        },
        {
          "output_type": "stream",
          "name": "stderr",
          "text": [
            "<ipython-input-53-1dd8ef2bc507>:16: DataConversionWarning: A column-vector y was passed when a 1d array was expected. Please change the shape of y to (n_samples,), for example using ravel().\n",
            "  classifier.fit(X_train, y_train)\n",
            "<ipython-input-53-1dd8ef2bc507>:16: DataConversionWarning: A column-vector y was passed when a 1d array was expected. Please change the shape of y to (n_samples,), for example using ravel().\n",
            "  classifier.fit(X_train, y_train)\n"
          ]
        }
      ]
    },
    {
      "cell_type": "code",
      "source": [
        "best\n"
      ],
      "metadata": {
        "id": "buBfo0CIv76h",
        "outputId": "06a74987-9967-4b76-f74e-77afe459cbd9",
        "colab": {
          "base_uri": "https://localhost:8080/"
        }
      },
      "execution_count": 54,
      "outputs": [
        {
          "output_type": "execute_result",
          "data": {
            "text/plain": [
              "[10, 4]"
            ]
          },
          "metadata": {},
          "execution_count": 54
        }
      ]
    },
    {
      "cell_type": "markdown",
      "source": [
        "## SVM"
      ],
      "metadata": {
        "id": "dWZoO-NVwZ96"
      }
    },
    {
      "cell_type": "code",
      "source": [
        "from sklearn.svm import SVC\n",
        "classifier2 = SVC(kernel = 'rbf', random_state = 0)\n",
        "classifier2.fit(X_train, y_train)"
      ],
      "metadata": {
        "id": "UCkRfjI-wDC4",
        "outputId": "c7c07aef-4f64-4466-c1ce-7c76568b6f13",
        "colab": {
          "base_uri": "https://localhost:8080/"
        }
      },
      "execution_count": 55,
      "outputs": [
        {
          "output_type": "stream",
          "name": "stderr",
          "text": [
            "/usr/local/lib/python3.8/dist-packages/sklearn/utils/validation.py:993: DataConversionWarning: A column-vector y was passed when a 1d array was expected. Please change the shape of y to (n_samples, ), for example using ravel().\n",
            "  y = column_or_1d(y, warn=True)\n"
          ]
        },
        {
          "output_type": "execute_result",
          "data": {
            "text/plain": [
              "SVC(random_state=0)"
            ]
          },
          "metadata": {},
          "execution_count": 55
        }
      ]
    },
    {
      "cell_type": "code",
      "source": [
        "y_pred2 = classifier2.predict(X_cv)\n",
        "cm = confusion_matrix(y_cv, y_pred2)\n",
        "print(cm)\n",
        "accuracy_score(y_cv, y_pred2)"
      ],
      "metadata": {
        "id": "gwWPGLVrwgej",
        "outputId": "5ba3824f-943d-4b6d-9654-ad81fa2055e0",
        "colab": {
          "base_uri": "https://localhost:8080/"
        }
      },
      "execution_count": 56,
      "outputs": [
        {
          "output_type": "stream",
          "name": "stdout",
          "text": [
            "[[80  9]\n",
            " [13 98]]\n"
          ]
        },
        {
          "output_type": "execute_result",
          "data": {
            "text/plain": [
              "0.89"
            ]
          },
          "metadata": {},
          "execution_count": 56
        }
      ]
    },
    {
      "cell_type": "markdown",
      "source": [
        "### Parametre tuning"
      ],
      "metadata": {
        "id": "cfz_kQbBy9S3"
      }
    },
    {
      "cell_type": "code",
      "source": [
        "from sklearn.model_selection import GridSearchCV\n",
        "\n",
        "# specify the parameter grid\n",
        "param_grid = {'C': [0.1, 1, 10, 100],\n",
        "              'kernel': ['linear', 'rbf', 'poly']}\n",
        "\n",
        "# instantiate the model\n",
        "svm_clf = SVC()\n",
        "\n",
        "# perform grid search\n",
        "grid_search = GridSearchCV(svm_clf, param_grid, cv=5)\n",
        "grid_search.fit(X_train, y_train)\n",
        "\n",
        "# print the best parameters\n",
        "print(\"Best parameters: {}\".format(grid_search.best_params_))\n"
      ],
      "metadata": {
        "id": "qPbS3tG1zAHu",
        "outputId": "02c7fd70-6807-4f79-a1ab-2c373d8561a4",
        "colab": {
          "base_uri": "https://localhost:8080/"
        }
      },
      "execution_count": 57,
      "outputs": [
        {
          "output_type": "stream",
          "name": "stderr",
          "text": [
            "/usr/local/lib/python3.8/dist-packages/sklearn/utils/validation.py:993: DataConversionWarning: A column-vector y was passed when a 1d array was expected. Please change the shape of y to (n_samples, ), for example using ravel().\n",
            "  y = column_or_1d(y, warn=True)\n",
            "/usr/local/lib/python3.8/dist-packages/sklearn/utils/validation.py:993: DataConversionWarning: A column-vector y was passed when a 1d array was expected. Please change the shape of y to (n_samples, ), for example using ravel().\n",
            "  y = column_or_1d(y, warn=True)\n",
            "/usr/local/lib/python3.8/dist-packages/sklearn/utils/validation.py:993: DataConversionWarning: A column-vector y was passed when a 1d array was expected. Please change the shape of y to (n_samples, ), for example using ravel().\n",
            "  y = column_or_1d(y, warn=True)\n",
            "/usr/local/lib/python3.8/dist-packages/sklearn/utils/validation.py:993: DataConversionWarning: A column-vector y was passed when a 1d array was expected. Please change the shape of y to (n_samples, ), for example using ravel().\n",
            "  y = column_or_1d(y, warn=True)\n",
            "/usr/local/lib/python3.8/dist-packages/sklearn/utils/validation.py:993: DataConversionWarning: A column-vector y was passed when a 1d array was expected. Please change the shape of y to (n_samples, ), for example using ravel().\n",
            "  y = column_or_1d(y, warn=True)\n",
            "/usr/local/lib/python3.8/dist-packages/sklearn/utils/validation.py:993: DataConversionWarning: A column-vector y was passed when a 1d array was expected. Please change the shape of y to (n_samples, ), for example using ravel().\n",
            "  y = column_or_1d(y, warn=True)\n",
            "/usr/local/lib/python3.8/dist-packages/sklearn/utils/validation.py:993: DataConversionWarning: A column-vector y was passed when a 1d array was expected. Please change the shape of y to (n_samples, ), for example using ravel().\n",
            "  y = column_or_1d(y, warn=True)\n",
            "/usr/local/lib/python3.8/dist-packages/sklearn/utils/validation.py:993: DataConversionWarning: A column-vector y was passed when a 1d array was expected. Please change the shape of y to (n_samples, ), for example using ravel().\n",
            "  y = column_or_1d(y, warn=True)\n",
            "/usr/local/lib/python3.8/dist-packages/sklearn/utils/validation.py:993: DataConversionWarning: A column-vector y was passed when a 1d array was expected. Please change the shape of y to (n_samples, ), for example using ravel().\n",
            "  y = column_or_1d(y, warn=True)\n",
            "/usr/local/lib/python3.8/dist-packages/sklearn/utils/validation.py:993: DataConversionWarning: A column-vector y was passed when a 1d array was expected. Please change the shape of y to (n_samples, ), for example using ravel().\n",
            "  y = column_or_1d(y, warn=True)\n",
            "/usr/local/lib/python3.8/dist-packages/sklearn/utils/validation.py:993: DataConversionWarning: A column-vector y was passed when a 1d array was expected. Please change the shape of y to (n_samples, ), for example using ravel().\n",
            "  y = column_or_1d(y, warn=True)\n",
            "/usr/local/lib/python3.8/dist-packages/sklearn/utils/validation.py:993: DataConversionWarning: A column-vector y was passed when a 1d array was expected. Please change the shape of y to (n_samples, ), for example using ravel().\n",
            "  y = column_or_1d(y, warn=True)\n",
            "/usr/local/lib/python3.8/dist-packages/sklearn/utils/validation.py:993: DataConversionWarning: A column-vector y was passed when a 1d array was expected. Please change the shape of y to (n_samples, ), for example using ravel().\n",
            "  y = column_or_1d(y, warn=True)\n",
            "/usr/local/lib/python3.8/dist-packages/sklearn/utils/validation.py:993: DataConversionWarning: A column-vector y was passed when a 1d array was expected. Please change the shape of y to (n_samples, ), for example using ravel().\n",
            "  y = column_or_1d(y, warn=True)\n",
            "/usr/local/lib/python3.8/dist-packages/sklearn/utils/validation.py:993: DataConversionWarning: A column-vector y was passed when a 1d array was expected. Please change the shape of y to (n_samples, ), for example using ravel().\n",
            "  y = column_or_1d(y, warn=True)\n",
            "/usr/local/lib/python3.8/dist-packages/sklearn/utils/validation.py:993: DataConversionWarning: A column-vector y was passed when a 1d array was expected. Please change the shape of y to (n_samples, ), for example using ravel().\n",
            "  y = column_or_1d(y, warn=True)\n",
            "/usr/local/lib/python3.8/dist-packages/sklearn/utils/validation.py:993: DataConversionWarning: A column-vector y was passed when a 1d array was expected. Please change the shape of y to (n_samples, ), for example using ravel().\n",
            "  y = column_or_1d(y, warn=True)\n",
            "/usr/local/lib/python3.8/dist-packages/sklearn/utils/validation.py:993: DataConversionWarning: A column-vector y was passed when a 1d array was expected. Please change the shape of y to (n_samples, ), for example using ravel().\n",
            "  y = column_or_1d(y, warn=True)\n",
            "/usr/local/lib/python3.8/dist-packages/sklearn/utils/validation.py:993: DataConversionWarning: A column-vector y was passed when a 1d array was expected. Please change the shape of y to (n_samples, ), for example using ravel().\n",
            "  y = column_or_1d(y, warn=True)\n",
            "/usr/local/lib/python3.8/dist-packages/sklearn/utils/validation.py:993: DataConversionWarning: A column-vector y was passed when a 1d array was expected. Please change the shape of y to (n_samples, ), for example using ravel().\n",
            "  y = column_or_1d(y, warn=True)\n",
            "/usr/local/lib/python3.8/dist-packages/sklearn/utils/validation.py:993: DataConversionWarning: A column-vector y was passed when a 1d array was expected. Please change the shape of y to (n_samples, ), for example using ravel().\n",
            "  y = column_or_1d(y, warn=True)\n",
            "/usr/local/lib/python3.8/dist-packages/sklearn/utils/validation.py:993: DataConversionWarning: A column-vector y was passed when a 1d array was expected. Please change the shape of y to (n_samples, ), for example using ravel().\n",
            "  y = column_or_1d(y, warn=True)\n",
            "/usr/local/lib/python3.8/dist-packages/sklearn/utils/validation.py:993: DataConversionWarning: A column-vector y was passed when a 1d array was expected. Please change the shape of y to (n_samples, ), for example using ravel().\n",
            "  y = column_or_1d(y, warn=True)\n",
            "/usr/local/lib/python3.8/dist-packages/sklearn/utils/validation.py:993: DataConversionWarning: A column-vector y was passed when a 1d array was expected. Please change the shape of y to (n_samples, ), for example using ravel().\n",
            "  y = column_or_1d(y, warn=True)\n",
            "/usr/local/lib/python3.8/dist-packages/sklearn/utils/validation.py:993: DataConversionWarning: A column-vector y was passed when a 1d array was expected. Please change the shape of y to (n_samples, ), for example using ravel().\n",
            "  y = column_or_1d(y, warn=True)\n",
            "/usr/local/lib/python3.8/dist-packages/sklearn/utils/validation.py:993: DataConversionWarning: A column-vector y was passed when a 1d array was expected. Please change the shape of y to (n_samples, ), for example using ravel().\n",
            "  y = column_or_1d(y, warn=True)\n",
            "/usr/local/lib/python3.8/dist-packages/sklearn/utils/validation.py:993: DataConversionWarning: A column-vector y was passed when a 1d array was expected. Please change the shape of y to (n_samples, ), for example using ravel().\n",
            "  y = column_or_1d(y, warn=True)\n",
            "/usr/local/lib/python3.8/dist-packages/sklearn/utils/validation.py:993: DataConversionWarning: A column-vector y was passed when a 1d array was expected. Please change the shape of y to (n_samples, ), for example using ravel().\n",
            "  y = column_or_1d(y, warn=True)\n",
            "/usr/local/lib/python3.8/dist-packages/sklearn/utils/validation.py:993: DataConversionWarning: A column-vector y was passed when a 1d array was expected. Please change the shape of y to (n_samples, ), for example using ravel().\n",
            "  y = column_or_1d(y, warn=True)\n",
            "/usr/local/lib/python3.8/dist-packages/sklearn/utils/validation.py:993: DataConversionWarning: A column-vector y was passed when a 1d array was expected. Please change the shape of y to (n_samples, ), for example using ravel().\n",
            "  y = column_or_1d(y, warn=True)\n",
            "/usr/local/lib/python3.8/dist-packages/sklearn/utils/validation.py:993: DataConversionWarning: A column-vector y was passed when a 1d array was expected. Please change the shape of y to (n_samples, ), for example using ravel().\n",
            "  y = column_or_1d(y, warn=True)\n",
            "/usr/local/lib/python3.8/dist-packages/sklearn/utils/validation.py:993: DataConversionWarning: A column-vector y was passed when a 1d array was expected. Please change the shape of y to (n_samples, ), for example using ravel().\n",
            "  y = column_or_1d(y, warn=True)\n",
            "/usr/local/lib/python3.8/dist-packages/sklearn/utils/validation.py:993: DataConversionWarning: A column-vector y was passed when a 1d array was expected. Please change the shape of y to (n_samples, ), for example using ravel().\n",
            "  y = column_or_1d(y, warn=True)\n",
            "/usr/local/lib/python3.8/dist-packages/sklearn/utils/validation.py:993: DataConversionWarning: A column-vector y was passed when a 1d array was expected. Please change the shape of y to (n_samples, ), for example using ravel().\n",
            "  y = column_or_1d(y, warn=True)\n",
            "/usr/local/lib/python3.8/dist-packages/sklearn/utils/validation.py:993: DataConversionWarning: A column-vector y was passed when a 1d array was expected. Please change the shape of y to (n_samples, ), for example using ravel().\n",
            "  y = column_or_1d(y, warn=True)\n",
            "/usr/local/lib/python3.8/dist-packages/sklearn/utils/validation.py:993: DataConversionWarning: A column-vector y was passed when a 1d array was expected. Please change the shape of y to (n_samples, ), for example using ravel().\n",
            "  y = column_or_1d(y, warn=True)\n",
            "/usr/local/lib/python3.8/dist-packages/sklearn/utils/validation.py:993: DataConversionWarning: A column-vector y was passed when a 1d array was expected. Please change the shape of y to (n_samples, ), for example using ravel().\n",
            "  y = column_or_1d(y, warn=True)\n",
            "/usr/local/lib/python3.8/dist-packages/sklearn/utils/validation.py:993: DataConversionWarning: A column-vector y was passed when a 1d array was expected. Please change the shape of y to (n_samples, ), for example using ravel().\n",
            "  y = column_or_1d(y, warn=True)\n",
            "/usr/local/lib/python3.8/dist-packages/sklearn/utils/validation.py:993: DataConversionWarning: A column-vector y was passed when a 1d array was expected. Please change the shape of y to (n_samples, ), for example using ravel().\n",
            "  y = column_or_1d(y, warn=True)\n",
            "/usr/local/lib/python3.8/dist-packages/sklearn/utils/validation.py:993: DataConversionWarning: A column-vector y was passed when a 1d array was expected. Please change the shape of y to (n_samples, ), for example using ravel().\n",
            "  y = column_or_1d(y, warn=True)\n",
            "/usr/local/lib/python3.8/dist-packages/sklearn/utils/validation.py:993: DataConversionWarning: A column-vector y was passed when a 1d array was expected. Please change the shape of y to (n_samples, ), for example using ravel().\n",
            "  y = column_or_1d(y, warn=True)\n",
            "/usr/local/lib/python3.8/dist-packages/sklearn/utils/validation.py:993: DataConversionWarning: A column-vector y was passed when a 1d array was expected. Please change the shape of y to (n_samples, ), for example using ravel().\n",
            "  y = column_or_1d(y, warn=True)\n",
            "/usr/local/lib/python3.8/dist-packages/sklearn/utils/validation.py:993: DataConversionWarning: A column-vector y was passed when a 1d array was expected. Please change the shape of y to (n_samples, ), for example using ravel().\n",
            "  y = column_or_1d(y, warn=True)\n",
            "/usr/local/lib/python3.8/dist-packages/sklearn/utils/validation.py:993: DataConversionWarning: A column-vector y was passed when a 1d array was expected. Please change the shape of y to (n_samples, ), for example using ravel().\n",
            "  y = column_or_1d(y, warn=True)\n",
            "/usr/local/lib/python3.8/dist-packages/sklearn/utils/validation.py:993: DataConversionWarning: A column-vector y was passed when a 1d array was expected. Please change the shape of y to (n_samples, ), for example using ravel().\n",
            "  y = column_or_1d(y, warn=True)\n",
            "/usr/local/lib/python3.8/dist-packages/sklearn/utils/validation.py:993: DataConversionWarning: A column-vector y was passed when a 1d array was expected. Please change the shape of y to (n_samples, ), for example using ravel().\n",
            "  y = column_or_1d(y, warn=True)\n",
            "/usr/local/lib/python3.8/dist-packages/sklearn/utils/validation.py:993: DataConversionWarning: A column-vector y was passed when a 1d array was expected. Please change the shape of y to (n_samples, ), for example using ravel().\n",
            "  y = column_or_1d(y, warn=True)\n",
            "/usr/local/lib/python3.8/dist-packages/sklearn/utils/validation.py:993: DataConversionWarning: A column-vector y was passed when a 1d array was expected. Please change the shape of y to (n_samples, ), for example using ravel().\n",
            "  y = column_or_1d(y, warn=True)\n",
            "/usr/local/lib/python3.8/dist-packages/sklearn/utils/validation.py:993: DataConversionWarning: A column-vector y was passed when a 1d array was expected. Please change the shape of y to (n_samples, ), for example using ravel().\n",
            "  y = column_or_1d(y, warn=True)\n",
            "/usr/local/lib/python3.8/dist-packages/sklearn/utils/validation.py:993: DataConversionWarning: A column-vector y was passed when a 1d array was expected. Please change the shape of y to (n_samples, ), for example using ravel().\n",
            "  y = column_or_1d(y, warn=True)\n",
            "/usr/local/lib/python3.8/dist-packages/sklearn/utils/validation.py:993: DataConversionWarning: A column-vector y was passed when a 1d array was expected. Please change the shape of y to (n_samples, ), for example using ravel().\n",
            "  y = column_or_1d(y, warn=True)\n",
            "/usr/local/lib/python3.8/dist-packages/sklearn/utils/validation.py:993: DataConversionWarning: A column-vector y was passed when a 1d array was expected. Please change the shape of y to (n_samples, ), for example using ravel().\n",
            "  y = column_or_1d(y, warn=True)\n",
            "/usr/local/lib/python3.8/dist-packages/sklearn/utils/validation.py:993: DataConversionWarning: A column-vector y was passed when a 1d array was expected. Please change the shape of y to (n_samples, ), for example using ravel().\n",
            "  y = column_or_1d(y, warn=True)\n",
            "/usr/local/lib/python3.8/dist-packages/sklearn/utils/validation.py:993: DataConversionWarning: A column-vector y was passed when a 1d array was expected. Please change the shape of y to (n_samples, ), for example using ravel().\n",
            "  y = column_or_1d(y, warn=True)\n",
            "/usr/local/lib/python3.8/dist-packages/sklearn/utils/validation.py:993: DataConversionWarning: A column-vector y was passed when a 1d array was expected. Please change the shape of y to (n_samples, ), for example using ravel().\n",
            "  y = column_or_1d(y, warn=True)\n",
            "/usr/local/lib/python3.8/dist-packages/sklearn/utils/validation.py:993: DataConversionWarning: A column-vector y was passed when a 1d array was expected. Please change the shape of y to (n_samples, ), for example using ravel().\n",
            "  y = column_or_1d(y, warn=True)\n",
            "/usr/local/lib/python3.8/dist-packages/sklearn/utils/validation.py:993: DataConversionWarning: A column-vector y was passed when a 1d array was expected. Please change the shape of y to (n_samples, ), for example using ravel().\n",
            "  y = column_or_1d(y, warn=True)\n",
            "/usr/local/lib/python3.8/dist-packages/sklearn/utils/validation.py:993: DataConversionWarning: A column-vector y was passed when a 1d array was expected. Please change the shape of y to (n_samples, ), for example using ravel().\n",
            "  y = column_or_1d(y, warn=True)\n",
            "/usr/local/lib/python3.8/dist-packages/sklearn/utils/validation.py:993: DataConversionWarning: A column-vector y was passed when a 1d array was expected. Please change the shape of y to (n_samples, ), for example using ravel().\n",
            "  y = column_or_1d(y, warn=True)\n"
          ]
        },
        {
          "output_type": "stream",
          "name": "stdout",
          "text": [
            "Best parameters: {'C': 100, 'kernel': 'rbf'}\n"
          ]
        },
        {
          "output_type": "stream",
          "name": "stderr",
          "text": [
            "/usr/local/lib/python3.8/dist-packages/sklearn/utils/validation.py:993: DataConversionWarning: A column-vector y was passed when a 1d array was expected. Please change the shape of y to (n_samples, ), for example using ravel().\n",
            "  y = column_or_1d(y, warn=True)\n",
            "/usr/local/lib/python3.8/dist-packages/sklearn/utils/validation.py:993: DataConversionWarning: A column-vector y was passed when a 1d array was expected. Please change the shape of y to (n_samples, ), for example using ravel().\n",
            "  y = column_or_1d(y, warn=True)\n"
          ]
        }
      ]
    },
    {
      "cell_type": "code",
      "source": [
        "classifier2 = SVC(kernel = 'rbf',C=10,random_state = 0)\n",
        "classifier2.fit(X_train, y_train)"
      ],
      "metadata": {
        "id": "PAw0l8D_zH79",
        "outputId": "ec7690e5-b882-4c4e-ef81-eeb1584e38de",
        "colab": {
          "base_uri": "https://localhost:8080/"
        }
      },
      "execution_count": 58,
      "outputs": [
        {
          "output_type": "stream",
          "name": "stderr",
          "text": [
            "/usr/local/lib/python3.8/dist-packages/sklearn/utils/validation.py:993: DataConversionWarning: A column-vector y was passed when a 1d array was expected. Please change the shape of y to (n_samples, ), for example using ravel().\n",
            "  y = column_or_1d(y, warn=True)\n"
          ]
        },
        {
          "output_type": "execute_result",
          "data": {
            "text/plain": [
              "SVC(C=10, random_state=0)"
            ]
          },
          "metadata": {},
          "execution_count": 58
        }
      ]
    },
    {
      "cell_type": "code",
      "source": [
        "y_pred2 = classifier2.predict(X_cv)\n",
        "cm = confusion_matrix(y_cv, y_pred2)\n",
        "print(cm)\n",
        "accuracy_score(y_cv, y_pred2)"
      ],
      "metadata": {
        "id": "F2owgHTczuH6",
        "outputId": "0d4bcc64-ea1f-4199-d846-509b0d443868",
        "colab": {
          "base_uri": "https://localhost:8080/"
        }
      },
      "execution_count": 59,
      "outputs": [
        {
          "output_type": "stream",
          "name": "stdout",
          "text": [
            "[[80  9]\n",
            " [14 97]]\n"
          ]
        },
        {
          "output_type": "execute_result",
          "data": {
            "text/plain": [
              "0.885"
            ]
          },
          "metadata": {},
          "execution_count": 59
        }
      ]
    },
    {
      "cell_type": "markdown",
      "source": [
        "## Naive Bayes"
      ],
      "metadata": {
        "id": "eW3t8G6Ww71V"
      }
    },
    {
      "cell_type": "code",
      "source": [
        "from sklearn.naive_bayes import GaussianNB\n",
        "classifier3 = GaussianNB()\n",
        "classifier3.fit(X_train, y_train)"
      ],
      "metadata": {
        "id": "RK7R8cwhwoim",
        "outputId": "6ae6d60b-7035-4b90-f679-c4e85387464e",
        "colab": {
          "base_uri": "https://localhost:8080/"
        }
      },
      "execution_count": 60,
      "outputs": [
        {
          "output_type": "stream",
          "name": "stderr",
          "text": [
            "/usr/local/lib/python3.8/dist-packages/sklearn/utils/validation.py:993: DataConversionWarning: A column-vector y was passed when a 1d array was expected. Please change the shape of y to (n_samples, ), for example using ravel().\n",
            "  y = column_or_1d(y, warn=True)\n"
          ]
        },
        {
          "output_type": "execute_result",
          "data": {
            "text/plain": [
              "GaussianNB()"
            ]
          },
          "metadata": {},
          "execution_count": 60
        }
      ]
    },
    {
      "cell_type": "code",
      "source": [
        "y_pred3 = classifier3.predict(X_cv)\n",
        "cm = confusion_matrix(y_cv, y_pred3)\n",
        "print(cm)\n",
        "accuracy_score(y_cv, y_pred3)"
      ],
      "metadata": {
        "id": "t_lt6PSWw_v3",
        "outputId": "3189149b-571a-4dec-a395-de857413b6f4",
        "colab": {
          "base_uri": "https://localhost:8080/"
        }
      },
      "execution_count": 61,
      "outputs": [
        {
          "output_type": "stream",
          "name": "stdout",
          "text": [
            "[[74 15]\n",
            " [23 88]]\n"
          ]
        },
        {
          "output_type": "execute_result",
          "data": {
            "text/plain": [
              "0.81"
            ]
          },
          "metadata": {},
          "execution_count": 61
        }
      ]
    },
    {
      "cell_type": "markdown",
      "source": [
        "## KNN"
      ],
      "metadata": {
        "id": "IZAg68NoxK70"
      }
    },
    {
      "cell_type": "code",
      "source": [
        "from sklearn.neighbors import KNeighborsClassifier\n",
        "classifier4 = KNeighborsClassifier(n_neighbors = 5, metric = 'minkowski', p = 2)\n",
        "classifier4.fit(X_train, y_train)"
      ],
      "metadata": {
        "id": "Il2ZFhZoxHH5",
        "outputId": "f0af19a6-49d3-4f41-fb6a-1cca0cd62216",
        "colab": {
          "base_uri": "https://localhost:8080/"
        }
      },
      "execution_count": 62,
      "outputs": [
        {
          "output_type": "stream",
          "name": "stderr",
          "text": [
            "/usr/local/lib/python3.8/dist-packages/sklearn/neighbors/_classification.py:198: DataConversionWarning: A column-vector y was passed when a 1d array was expected. Please change the shape of y to (n_samples,), for example using ravel().\n",
            "  return self._fit(X, y)\n"
          ]
        },
        {
          "output_type": "execute_result",
          "data": {
            "text/plain": [
              "KNeighborsClassifier()"
            ]
          },
          "metadata": {},
          "execution_count": 62
        }
      ]
    },
    {
      "cell_type": "code",
      "source": [
        "y_pred4 = classifier4.predict(X_cv)\n",
        "cm = confusion_matrix(y_cv, y_pred4)\n",
        "print(cm)\n",
        "accuracy_score(y_cv, y_pred4)"
      ],
      "metadata": {
        "id": "6JxjVKraxQxG",
        "outputId": "28112754-b42c-4a9c-ffa6-5b90f85b4d56",
        "colab": {
          "base_uri": "https://localhost:8080/"
        }
      },
      "execution_count": 63,
      "outputs": [
        {
          "output_type": "stream",
          "name": "stdout",
          "text": [
            "[[ 76  13]\n",
            " [  8 103]]\n"
          ]
        },
        {
          "output_type": "execute_result",
          "data": {
            "text/plain": [
              "0.895"
            ]
          },
          "metadata": {},
          "execution_count": 63
        }
      ]
    },
    {
      "cell_type": "markdown",
      "source": [
        "### Parametre tuning"
      ],
      "metadata": {
        "id": "HPZ8fvkpyCIi"
      }
    },
    {
      "cell_type": "code",
      "source": [
        "from sklearn.model_selection import GridSearchCV\n",
        "\n",
        "# specify the parameter grid\n",
        "param_grid = {'n_neighbors': [3, 5, 7, 9],\n",
        "              'weights': ['uniform', 'distance']}\n",
        "\n",
        "# instantiate the model\n",
        "knn = KNeighborsClassifier()\n",
        "\n",
        "# perform grid search\n",
        "grid_search = GridSearchCV(knn, param_grid, cv=5)\n",
        "grid_search.fit(X_train, y_train)\n",
        "\n",
        "# print the best parameters\n",
        "print(\"Best parameters: {}\".format(grid_search.best_params_))\n"
      ],
      "metadata": {
        "id": "5AnzU657xZ2v",
        "outputId": "87a84b7b-6ab2-477c-ac64-e17f390dce4b",
        "colab": {
          "base_uri": "https://localhost:8080/"
        }
      },
      "execution_count": 64,
      "outputs": [
        {
          "output_type": "stream",
          "name": "stderr",
          "text": [
            "/usr/local/lib/python3.8/dist-packages/sklearn/neighbors/_classification.py:198: DataConversionWarning: A column-vector y was passed when a 1d array was expected. Please change the shape of y to (n_samples,), for example using ravel().\n",
            "  return self._fit(X, y)\n",
            "/usr/local/lib/python3.8/dist-packages/sklearn/neighbors/_classification.py:198: DataConversionWarning: A column-vector y was passed when a 1d array was expected. Please change the shape of y to (n_samples,), for example using ravel().\n",
            "  return self._fit(X, y)\n",
            "/usr/local/lib/python3.8/dist-packages/sklearn/neighbors/_classification.py:198: DataConversionWarning: A column-vector y was passed when a 1d array was expected. Please change the shape of y to (n_samples,), for example using ravel().\n",
            "  return self._fit(X, y)\n",
            "/usr/local/lib/python3.8/dist-packages/sklearn/neighbors/_classification.py:198: DataConversionWarning: A column-vector y was passed when a 1d array was expected. Please change the shape of y to (n_samples,), for example using ravel().\n",
            "  return self._fit(X, y)\n",
            "/usr/local/lib/python3.8/dist-packages/sklearn/neighbors/_classification.py:198: DataConversionWarning: A column-vector y was passed when a 1d array was expected. Please change the shape of y to (n_samples,), for example using ravel().\n",
            "  return self._fit(X, y)\n",
            "/usr/local/lib/python3.8/dist-packages/sklearn/neighbors/_classification.py:198: DataConversionWarning: A column-vector y was passed when a 1d array was expected. Please change the shape of y to (n_samples,), for example using ravel().\n",
            "  return self._fit(X, y)\n",
            "/usr/local/lib/python3.8/dist-packages/sklearn/neighbors/_classification.py:198: DataConversionWarning: A column-vector y was passed when a 1d array was expected. Please change the shape of y to (n_samples,), for example using ravel().\n",
            "  return self._fit(X, y)\n",
            "/usr/local/lib/python3.8/dist-packages/sklearn/neighbors/_classification.py:198: DataConversionWarning: A column-vector y was passed when a 1d array was expected. Please change the shape of y to (n_samples,), for example using ravel().\n",
            "  return self._fit(X, y)\n",
            "/usr/local/lib/python3.8/dist-packages/sklearn/neighbors/_classification.py:198: DataConversionWarning: A column-vector y was passed when a 1d array was expected. Please change the shape of y to (n_samples,), for example using ravel().\n",
            "  return self._fit(X, y)\n",
            "/usr/local/lib/python3.8/dist-packages/sklearn/neighbors/_classification.py:198: DataConversionWarning: A column-vector y was passed when a 1d array was expected. Please change the shape of y to (n_samples,), for example using ravel().\n",
            "  return self._fit(X, y)\n",
            "/usr/local/lib/python3.8/dist-packages/sklearn/neighbors/_classification.py:198: DataConversionWarning: A column-vector y was passed when a 1d array was expected. Please change the shape of y to (n_samples,), for example using ravel().\n",
            "  return self._fit(X, y)\n",
            "/usr/local/lib/python3.8/dist-packages/sklearn/neighbors/_classification.py:198: DataConversionWarning: A column-vector y was passed when a 1d array was expected. Please change the shape of y to (n_samples,), for example using ravel().\n",
            "  return self._fit(X, y)\n",
            "/usr/local/lib/python3.8/dist-packages/sklearn/neighbors/_classification.py:198: DataConversionWarning: A column-vector y was passed when a 1d array was expected. Please change the shape of y to (n_samples,), for example using ravel().\n",
            "  return self._fit(X, y)\n",
            "/usr/local/lib/python3.8/dist-packages/sklearn/neighbors/_classification.py:198: DataConversionWarning: A column-vector y was passed when a 1d array was expected. Please change the shape of y to (n_samples,), for example using ravel().\n",
            "  return self._fit(X, y)\n",
            "/usr/local/lib/python3.8/dist-packages/sklearn/neighbors/_classification.py:198: DataConversionWarning: A column-vector y was passed when a 1d array was expected. Please change the shape of y to (n_samples,), for example using ravel().\n",
            "  return self._fit(X, y)\n",
            "/usr/local/lib/python3.8/dist-packages/sklearn/neighbors/_classification.py:198: DataConversionWarning: A column-vector y was passed when a 1d array was expected. Please change the shape of y to (n_samples,), for example using ravel().\n",
            "  return self._fit(X, y)\n",
            "/usr/local/lib/python3.8/dist-packages/sklearn/neighbors/_classification.py:198: DataConversionWarning: A column-vector y was passed when a 1d array was expected. Please change the shape of y to (n_samples,), for example using ravel().\n",
            "  return self._fit(X, y)\n",
            "/usr/local/lib/python3.8/dist-packages/sklearn/neighbors/_classification.py:198: DataConversionWarning: A column-vector y was passed when a 1d array was expected. Please change the shape of y to (n_samples,), for example using ravel().\n",
            "  return self._fit(X, y)\n",
            "/usr/local/lib/python3.8/dist-packages/sklearn/neighbors/_classification.py:198: DataConversionWarning: A column-vector y was passed when a 1d array was expected. Please change the shape of y to (n_samples,), for example using ravel().\n",
            "  return self._fit(X, y)\n",
            "/usr/local/lib/python3.8/dist-packages/sklearn/neighbors/_classification.py:198: DataConversionWarning: A column-vector y was passed when a 1d array was expected. Please change the shape of y to (n_samples,), for example using ravel().\n",
            "  return self._fit(X, y)\n",
            "/usr/local/lib/python3.8/dist-packages/sklearn/neighbors/_classification.py:198: DataConversionWarning: A column-vector y was passed when a 1d array was expected. Please change the shape of y to (n_samples,), for example using ravel().\n",
            "  return self._fit(X, y)\n",
            "/usr/local/lib/python3.8/dist-packages/sklearn/neighbors/_classification.py:198: DataConversionWarning: A column-vector y was passed when a 1d array was expected. Please change the shape of y to (n_samples,), for example using ravel().\n",
            "  return self._fit(X, y)\n",
            "/usr/local/lib/python3.8/dist-packages/sklearn/neighbors/_classification.py:198: DataConversionWarning: A column-vector y was passed when a 1d array was expected. Please change the shape of y to (n_samples,), for example using ravel().\n",
            "  return self._fit(X, y)\n",
            "/usr/local/lib/python3.8/dist-packages/sklearn/neighbors/_classification.py:198: DataConversionWarning: A column-vector y was passed when a 1d array was expected. Please change the shape of y to (n_samples,), for example using ravel().\n",
            "  return self._fit(X, y)\n",
            "/usr/local/lib/python3.8/dist-packages/sklearn/neighbors/_classification.py:198: DataConversionWarning: A column-vector y was passed when a 1d array was expected. Please change the shape of y to (n_samples,), for example using ravel().\n",
            "  return self._fit(X, y)\n",
            "/usr/local/lib/python3.8/dist-packages/sklearn/neighbors/_classification.py:198: DataConversionWarning: A column-vector y was passed when a 1d array was expected. Please change the shape of y to (n_samples,), for example using ravel().\n",
            "  return self._fit(X, y)\n",
            "/usr/local/lib/python3.8/dist-packages/sklearn/neighbors/_classification.py:198: DataConversionWarning: A column-vector y was passed when a 1d array was expected. Please change the shape of y to (n_samples,), for example using ravel().\n",
            "  return self._fit(X, y)\n",
            "/usr/local/lib/python3.8/dist-packages/sklearn/neighbors/_classification.py:198: DataConversionWarning: A column-vector y was passed when a 1d array was expected. Please change the shape of y to (n_samples,), for example using ravel().\n",
            "  return self._fit(X, y)\n",
            "/usr/local/lib/python3.8/dist-packages/sklearn/neighbors/_classification.py:198: DataConversionWarning: A column-vector y was passed when a 1d array was expected. Please change the shape of y to (n_samples,), for example using ravel().\n",
            "  return self._fit(X, y)\n",
            "/usr/local/lib/python3.8/dist-packages/sklearn/neighbors/_classification.py:198: DataConversionWarning: A column-vector y was passed when a 1d array was expected. Please change the shape of y to (n_samples,), for example using ravel().\n",
            "  return self._fit(X, y)\n",
            "/usr/local/lib/python3.8/dist-packages/sklearn/neighbors/_classification.py:198: DataConversionWarning: A column-vector y was passed when a 1d array was expected. Please change the shape of y to (n_samples,), for example using ravel().\n",
            "  return self._fit(X, y)\n",
            "/usr/local/lib/python3.8/dist-packages/sklearn/neighbors/_classification.py:198: DataConversionWarning: A column-vector y was passed when a 1d array was expected. Please change the shape of y to (n_samples,), for example using ravel().\n",
            "  return self._fit(X, y)\n",
            "/usr/local/lib/python3.8/dist-packages/sklearn/neighbors/_classification.py:198: DataConversionWarning: A column-vector y was passed when a 1d array was expected. Please change the shape of y to (n_samples,), for example using ravel().\n",
            "  return self._fit(X, y)\n",
            "/usr/local/lib/python3.8/dist-packages/sklearn/neighbors/_classification.py:198: DataConversionWarning: A column-vector y was passed when a 1d array was expected. Please change the shape of y to (n_samples,), for example using ravel().\n",
            "  return self._fit(X, y)\n",
            "/usr/local/lib/python3.8/dist-packages/sklearn/neighbors/_classification.py:198: DataConversionWarning: A column-vector y was passed when a 1d array was expected. Please change the shape of y to (n_samples,), for example using ravel().\n",
            "  return self._fit(X, y)\n",
            "/usr/local/lib/python3.8/dist-packages/sklearn/neighbors/_classification.py:198: DataConversionWarning: A column-vector y was passed when a 1d array was expected. Please change the shape of y to (n_samples,), for example using ravel().\n",
            "  return self._fit(X, y)\n",
            "/usr/local/lib/python3.8/dist-packages/sklearn/neighbors/_classification.py:198: DataConversionWarning: A column-vector y was passed when a 1d array was expected. Please change the shape of y to (n_samples,), for example using ravel().\n",
            "  return self._fit(X, y)\n"
          ]
        },
        {
          "output_type": "stream",
          "name": "stdout",
          "text": [
            "Best parameters: {'n_neighbors': 7, 'weights': 'uniform'}\n"
          ]
        },
        {
          "output_type": "stream",
          "name": "stderr",
          "text": [
            "/usr/local/lib/python3.8/dist-packages/sklearn/neighbors/_classification.py:198: DataConversionWarning: A column-vector y was passed when a 1d array was expected. Please change the shape of y to (n_samples,), for example using ravel().\n",
            "  return self._fit(X, y)\n",
            "/usr/local/lib/python3.8/dist-packages/sklearn/neighbors/_classification.py:198: DataConversionWarning: A column-vector y was passed when a 1d array was expected. Please change the shape of y to (n_samples,), for example using ravel().\n",
            "  return self._fit(X, y)\n",
            "/usr/local/lib/python3.8/dist-packages/sklearn/neighbors/_classification.py:198: DataConversionWarning: A column-vector y was passed when a 1d array was expected. Please change the shape of y to (n_samples,), for example using ravel().\n",
            "  return self._fit(X, y)\n",
            "/usr/local/lib/python3.8/dist-packages/sklearn/neighbors/_classification.py:198: DataConversionWarning: A column-vector y was passed when a 1d array was expected. Please change the shape of y to (n_samples,), for example using ravel().\n",
            "  return self._fit(X, y)\n"
          ]
        }
      ]
    },
    {
      "cell_type": "code",
      "source": [
        "classifier4 = KNeighborsClassifier(n_neighbors = 5,weights='uniform', metric = 'minkowski', p = 2)\n",
        "classifier4.fit(X_train, y_train)"
      ],
      "metadata": {
        "id": "6G7BaxvOyLY-",
        "outputId": "1919103e-93c6-45f9-f28e-50f4472f7b4c",
        "colab": {
          "base_uri": "https://localhost:8080/"
        }
      },
      "execution_count": 65,
      "outputs": [
        {
          "output_type": "stream",
          "name": "stderr",
          "text": [
            "/usr/local/lib/python3.8/dist-packages/sklearn/neighbors/_classification.py:198: DataConversionWarning: A column-vector y was passed when a 1d array was expected. Please change the shape of y to (n_samples,), for example using ravel().\n",
            "  return self._fit(X, y)\n"
          ]
        },
        {
          "output_type": "execute_result",
          "data": {
            "text/plain": [
              "KNeighborsClassifier()"
            ]
          },
          "metadata": {},
          "execution_count": 65
        }
      ]
    },
    {
      "cell_type": "code",
      "source": [
        "y_pred4 = classifier4.predict(X_cv)\n",
        "cm = confusion_matrix(y_cv, y_pred4)\n",
        "print(cm)\n",
        "accuracy_score(y_cv, y_pred4)"
      ],
      "metadata": {
        "id": "1pSSFUFlyaQA",
        "outputId": "89451c73-acea-40aa-a9bb-2f4bf2fba5ab",
        "colab": {
          "base_uri": "https://localhost:8080/"
        }
      },
      "execution_count": 66,
      "outputs": [
        {
          "output_type": "stream",
          "name": "stdout",
          "text": [
            "[[ 76  13]\n",
            " [  8 103]]\n"
          ]
        },
        {
          "output_type": "execute_result",
          "data": {
            "text/plain": [
              "0.895"
            ]
          },
          "metadata": {},
          "execution_count": 66
        }
      ]
    },
    {
      "cell_type": "markdown",
      "source": [
        "# Submission"
      ],
      "metadata": {
        "id": "OixGVselz243"
      }
    },
    {
      "cell_type": "code",
      "source": [
        "classifier4 = KNeighborsClassifier(n_neighbors = 5,weights='uniform', metric = 'minkowski', p = 2)\n",
        "classifier4.fit(X,y)\n",
        "y_pred4 = classifier4.predict(X_test)\n"
      ],
      "metadata": {
        "id": "DGOwF9k2yekZ",
        "outputId": "4d9bb0b9-150e-42fe-cf7b-84c354afe14d",
        "colab": {
          "base_uri": "https://localhost:8080/"
        }
      },
      "execution_count": 67,
      "outputs": [
        {
          "output_type": "stream",
          "name": "stderr",
          "text": [
            "/usr/local/lib/python3.8/dist-packages/sklearn/neighbors/_classification.py:198: DataConversionWarning: A column-vector y was passed when a 1d array was expected. Please change the shape of y to (n_samples,), for example using ravel().\n",
            "  return self._fit(X, y)\n"
          ]
        }
      ]
    },
    {
      "cell_type": "code",
      "source": [
        "print(y_pred4.shape)"
      ],
      "metadata": {
        "id": "BQWvxrT135j5",
        "outputId": "44faea5b-4ae2-46f6-a7b7-02c78fef1a95",
        "colab": {
          "base_uri": "https://localhost:8080/"
        }
      },
      "execution_count": 68,
      "outputs": [
        {
          "output_type": "stream",
          "name": "stdout",
          "text": [
            "(9000,)\n"
          ]
        }
      ]
    },
    {
      "cell_type": "code",
      "source": [
        "l = range(1,9001)\n",
        "submission = pd.DataFrame(l, columns=['Id'])\n",
        "submission['Solution']=y_pred4"
      ],
      "metadata": {
        "id": "isnudDsn0ehO"
      },
      "execution_count": 69,
      "outputs": []
    },
    {
      "cell_type": "code",
      "source": [
        "submission"
      ],
      "metadata": {
        "id": "cPHifT0S02xP",
        "outputId": "82eb5ee7-a055-48d0-a173-562977075510",
        "colab": {
          "base_uri": "https://localhost:8080/",
          "height": 423
        }
      },
      "execution_count": 70,
      "outputs": [
        {
          "output_type": "execute_result",
          "data": {
            "text/plain": [
              "        Id  Solution\n",
              "0        1         1\n",
              "1        2         0\n",
              "2        3         1\n",
              "3        4         0\n",
              "4        5         0\n",
              "...    ...       ...\n",
              "8995  8996         1\n",
              "8996  8997         1\n",
              "8997  8998         1\n",
              "8998  8999         0\n",
              "8999  9000         1\n",
              "\n",
              "[9000 rows x 2 columns]"
            ],
            "text/html": [
              "\n",
              "  <div id=\"df-f0136da4-9ee4-4480-be5d-c09a0c4a3377\">\n",
              "    <div class=\"colab-df-container\">\n",
              "      <div>\n",
              "<style scoped>\n",
              "    .dataframe tbody tr th:only-of-type {\n",
              "        vertical-align: middle;\n",
              "    }\n",
              "\n",
              "    .dataframe tbody tr th {\n",
              "        vertical-align: top;\n",
              "    }\n",
              "\n",
              "    .dataframe thead th {\n",
              "        text-align: right;\n",
              "    }\n",
              "</style>\n",
              "<table border=\"1\" class=\"dataframe\">\n",
              "  <thead>\n",
              "    <tr style=\"text-align: right;\">\n",
              "      <th></th>\n",
              "      <th>Id</th>\n",
              "      <th>Solution</th>\n",
              "    </tr>\n",
              "  </thead>\n",
              "  <tbody>\n",
              "    <tr>\n",
              "      <th>0</th>\n",
              "      <td>1</td>\n",
              "      <td>1</td>\n",
              "    </tr>\n",
              "    <tr>\n",
              "      <th>1</th>\n",
              "      <td>2</td>\n",
              "      <td>0</td>\n",
              "    </tr>\n",
              "    <tr>\n",
              "      <th>2</th>\n",
              "      <td>3</td>\n",
              "      <td>1</td>\n",
              "    </tr>\n",
              "    <tr>\n",
              "      <th>3</th>\n",
              "      <td>4</td>\n",
              "      <td>0</td>\n",
              "    </tr>\n",
              "    <tr>\n",
              "      <th>4</th>\n",
              "      <td>5</td>\n",
              "      <td>0</td>\n",
              "    </tr>\n",
              "    <tr>\n",
              "      <th>...</th>\n",
              "      <td>...</td>\n",
              "      <td>...</td>\n",
              "    </tr>\n",
              "    <tr>\n",
              "      <th>8995</th>\n",
              "      <td>8996</td>\n",
              "      <td>1</td>\n",
              "    </tr>\n",
              "    <tr>\n",
              "      <th>8996</th>\n",
              "      <td>8997</td>\n",
              "      <td>1</td>\n",
              "    </tr>\n",
              "    <tr>\n",
              "      <th>8997</th>\n",
              "      <td>8998</td>\n",
              "      <td>1</td>\n",
              "    </tr>\n",
              "    <tr>\n",
              "      <th>8998</th>\n",
              "      <td>8999</td>\n",
              "      <td>0</td>\n",
              "    </tr>\n",
              "    <tr>\n",
              "      <th>8999</th>\n",
              "      <td>9000</td>\n",
              "      <td>1</td>\n",
              "    </tr>\n",
              "  </tbody>\n",
              "</table>\n",
              "<p>9000 rows × 2 columns</p>\n",
              "</div>\n",
              "      <button class=\"colab-df-convert\" onclick=\"convertToInteractive('df-f0136da4-9ee4-4480-be5d-c09a0c4a3377')\"\n",
              "              title=\"Convert this dataframe to an interactive table.\"\n",
              "              style=\"display:none;\">\n",
              "        \n",
              "  <svg xmlns=\"http://www.w3.org/2000/svg\" height=\"24px\"viewBox=\"0 0 24 24\"\n",
              "       width=\"24px\">\n",
              "    <path d=\"M0 0h24v24H0V0z\" fill=\"none\"/>\n",
              "    <path d=\"M18.56 5.44l.94 2.06.94-2.06 2.06-.94-2.06-.94-.94-2.06-.94 2.06-2.06.94zm-11 1L8.5 8.5l.94-2.06 2.06-.94-2.06-.94L8.5 2.5l-.94 2.06-2.06.94zm10 10l.94 2.06.94-2.06 2.06-.94-2.06-.94-.94-2.06-.94 2.06-2.06.94z\"/><path d=\"M17.41 7.96l-1.37-1.37c-.4-.4-.92-.59-1.43-.59-.52 0-1.04.2-1.43.59L10.3 9.45l-7.72 7.72c-.78.78-.78 2.05 0 2.83L4 21.41c.39.39.9.59 1.41.59.51 0 1.02-.2 1.41-.59l7.78-7.78 2.81-2.81c.8-.78.8-2.07 0-2.86zM5.41 20L4 18.59l7.72-7.72 1.47 1.35L5.41 20z\"/>\n",
              "  </svg>\n",
              "      </button>\n",
              "      \n",
              "  <style>\n",
              "    .colab-df-container {\n",
              "      display:flex;\n",
              "      flex-wrap:wrap;\n",
              "      gap: 12px;\n",
              "    }\n",
              "\n",
              "    .colab-df-convert {\n",
              "      background-color: #E8F0FE;\n",
              "      border: none;\n",
              "      border-radius: 50%;\n",
              "      cursor: pointer;\n",
              "      display: none;\n",
              "      fill: #1967D2;\n",
              "      height: 32px;\n",
              "      padding: 0 0 0 0;\n",
              "      width: 32px;\n",
              "    }\n",
              "\n",
              "    .colab-df-convert:hover {\n",
              "      background-color: #E2EBFA;\n",
              "      box-shadow: 0px 1px 2px rgba(60, 64, 67, 0.3), 0px 1px 3px 1px rgba(60, 64, 67, 0.15);\n",
              "      fill: #174EA6;\n",
              "    }\n",
              "\n",
              "    [theme=dark] .colab-df-convert {\n",
              "      background-color: #3B4455;\n",
              "      fill: #D2E3FC;\n",
              "    }\n",
              "\n",
              "    [theme=dark] .colab-df-convert:hover {\n",
              "      background-color: #434B5C;\n",
              "      box-shadow: 0px 1px 3px 1px rgba(0, 0, 0, 0.15);\n",
              "      filter: drop-shadow(0px 1px 2px rgba(0, 0, 0, 0.3));\n",
              "      fill: #FFFFFF;\n",
              "    }\n",
              "  </style>\n",
              "\n",
              "      <script>\n",
              "        const buttonEl =\n",
              "          document.querySelector('#df-f0136da4-9ee4-4480-be5d-c09a0c4a3377 button.colab-df-convert');\n",
              "        buttonEl.style.display =\n",
              "          google.colab.kernel.accessAllowed ? 'block' : 'none';\n",
              "\n",
              "        async function convertToInteractive(key) {\n",
              "          const element = document.querySelector('#df-f0136da4-9ee4-4480-be5d-c09a0c4a3377');\n",
              "          const dataTable =\n",
              "            await google.colab.kernel.invokeFunction('convertToInteractive',\n",
              "                                                     [key], {});\n",
              "          if (!dataTable) return;\n",
              "\n",
              "          const docLinkHtml = 'Like what you see? Visit the ' +\n",
              "            '<a target=\"_blank\" href=https://colab.research.google.com/notebooks/data_table.ipynb>data table notebook</a>'\n",
              "            + ' to learn more about interactive tables.';\n",
              "          element.innerHTML = '';\n",
              "          dataTable['output_type'] = 'display_data';\n",
              "          await google.colab.output.renderOutput(dataTable, element);\n",
              "          const docLink = document.createElement('div');\n",
              "          docLink.innerHTML = docLinkHtml;\n",
              "          element.appendChild(docLink);\n",
              "        }\n",
              "      </script>\n",
              "    </div>\n",
              "  </div>\n",
              "  "
            ]
          },
          "metadata": {},
          "execution_count": 70
        }
      ]
    },
    {
      "cell_type": "code",
      "source": [
        "submission.to_csv('submission.csv',index=False)"
      ],
      "metadata": {
        "id": "Z3dBgA1D05Ol"
      },
      "execution_count": 72,
      "outputs": []
    },
    {
      "cell_type": "code",
      "source": [],
      "metadata": {
        "id": "3Nzbkrgz0_0b"
      },
      "execution_count": 71,
      "outputs": []
    }
  ]
}